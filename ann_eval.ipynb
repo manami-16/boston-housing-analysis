{
 "cells": [
  {
   "cell_type": "code",
   "execution_count": 1,
   "metadata": {},
   "outputs": [],
   "source": [
    "import torch\n",
    "import torch.nn as nn\n",
    "import numpy as np\n",
    "import pandas as pd\n",
    "from sklearn.model_selection import train_test_split\n",
    "from torch.utils.data import ConcatDataset, DataLoader, Sampler, Dataset\n",
    "from src.data_loader import *\n",
    "import torch.nn.functional as F\n",
    "import torch.optim as optim\n",
    "import matplotlib.pyplot as plt\n",
    "import random\n",
    "import os\n",
    "from src.ann_model import ANN, create_dataloader, save_checkpoint, convert_tensor"
   ]
  },
  {
   "cell_type": "code",
   "execution_count": 2,
   "metadata": {},
   "outputs": [],
   "source": [
    "from src.data_loader import *"
   ]
  },
  {
   "cell_type": "code",
   "execution_count": 3,
   "metadata": {},
   "outputs": [],
   "source": [
    "data = split_dataset()"
   ]
  },
  {
   "cell_type": "code",
   "execution_count": 4,
   "metadata": {},
   "outputs": [
    {
     "data": {
      "text/plain": [
       "dict_keys(['X_train', 'y_train', 'X_val', 'y_val', 'X_test', 'y_test'])"
      ]
     },
     "execution_count": 4,
     "metadata": {},
     "output_type": "execute_result"
    }
   ],
   "source": [
    "data.keys()"
   ]
  },
  {
   "cell_type": "code",
   "execution_count": 5,
   "metadata": {},
   "outputs": [
    {
     "data": {
      "text/html": [
       "<div>\n",
       "<style scoped>\n",
       "    .dataframe tbody tr th:only-of-type {\n",
       "        vertical-align: middle;\n",
       "    }\n",
       "\n",
       "    .dataframe tbody tr th {\n",
       "        vertical-align: top;\n",
       "    }\n",
       "\n",
       "    .dataframe thead th {\n",
       "        text-align: right;\n",
       "    }\n",
       "</style>\n",
       "<table border=\"1\" class=\"dataframe\">\n",
       "  <thead>\n",
       "    <tr style=\"text-align: right;\">\n",
       "      <th></th>\n",
       "      <th>RM</th>\n",
       "      <th>PTRATIO</th>\n",
       "      <th>LSTAT</th>\n",
       "      <th>year</th>\n",
       "      <th>Units Sold</th>\n",
       "      <th>Active Listings</th>\n",
       "      <th>Months Supply of Inventory</th>\n",
       "      <th>New Listings</th>\n",
       "      <th>Pending Sales</th>\n",
       "      <th>Days to Off Market</th>\n",
       "      <th>Sold to Original Price Ratio</th>\n",
       "      <th>Price per Square Foot</th>\n",
       "      <th>month</th>\n",
       "    </tr>\n",
       "  </thead>\n",
       "  <tbody>\n",
       "    <tr>\n",
       "      <th>0</th>\n",
       "      <td>0.0</td>\n",
       "      <td>0.0</td>\n",
       "      <td>0.0</td>\n",
       "      <td>2020</td>\n",
       "      <td>170.0</td>\n",
       "      <td>295.0</td>\n",
       "      <td>1.7</td>\n",
       "      <td>172.0</td>\n",
       "      <td>156.0</td>\n",
       "      <td>0.71</td>\n",
       "      <td>0.964</td>\n",
       "      <td>253.0</td>\n",
       "      <td>1.0</td>\n",
       "    </tr>\n",
       "    <tr>\n",
       "      <th>1</th>\n",
       "      <td>0.0</td>\n",
       "      <td>0.0</td>\n",
       "      <td>0.0</td>\n",
       "      <td>2020</td>\n",
       "      <td>106.0</td>\n",
       "      <td>305.0</td>\n",
       "      <td>2.9</td>\n",
       "      <td>134.0</td>\n",
       "      <td>79.0</td>\n",
       "      <td>99.00</td>\n",
       "      <td>0.939</td>\n",
       "      <td>320.0</td>\n",
       "      <td>1.0</td>\n",
       "    </tr>\n",
       "    <tr>\n",
       "      <th>2</th>\n",
       "      <td>0.0</td>\n",
       "      <td>0.0</td>\n",
       "      <td>0.0</td>\n",
       "      <td>2022</td>\n",
       "      <td>1692.0</td>\n",
       "      <td>1770.0</td>\n",
       "      <td>1.0</td>\n",
       "      <td>2096.0</td>\n",
       "      <td>1466.0</td>\n",
       "      <td>17.00</td>\n",
       "      <td>1.076</td>\n",
       "      <td>418.0</td>\n",
       "      <td>6.0</td>\n",
       "    </tr>\n",
       "    <tr>\n",
       "      <th>3</th>\n",
       "      <td>0.0</td>\n",
       "      <td>0.0</td>\n",
       "      <td>0.0</td>\n",
       "      <td>2019</td>\n",
       "      <td>425.0</td>\n",
       "      <td>795.0</td>\n",
       "      <td>1.9</td>\n",
       "      <td>528.0</td>\n",
       "      <td>454.0</td>\n",
       "      <td>36.00</td>\n",
       "      <td>1.005</td>\n",
       "      <td>445.0</td>\n",
       "      <td>6.0</td>\n",
       "    </tr>\n",
       "    <tr>\n",
       "      <th>4</th>\n",
       "      <td>0.0</td>\n",
       "      <td>0.0</td>\n",
       "      <td>0.0</td>\n",
       "      <td>2020</td>\n",
       "      <td>324.0</td>\n",
       "      <td>1321.0</td>\n",
       "      <td>4.1</td>\n",
       "      <td>912.0</td>\n",
       "      <td>461.0</td>\n",
       "      <td>38.00</td>\n",
       "      <td>0.986</td>\n",
       "      <td>734.0</td>\n",
       "      <td>6.0</td>\n",
       "    </tr>\n",
       "    <tr>\n",
       "      <th>...</th>\n",
       "      <td>...</td>\n",
       "      <td>...</td>\n",
       "      <td>...</td>\n",
       "      <td>...</td>\n",
       "      <td>...</td>\n",
       "      <td>...</td>\n",
       "      <td>...</td>\n",
       "      <td>...</td>\n",
       "      <td>...</td>\n",
       "      <td>...</td>\n",
       "      <td>...</td>\n",
       "      <td>...</td>\n",
       "      <td>...</td>\n",
       "    </tr>\n",
       "    <tr>\n",
       "      <th>60</th>\n",
       "      <td>0.0</td>\n",
       "      <td>0.0</td>\n",
       "      <td>0.0</td>\n",
       "      <td>2019</td>\n",
       "      <td>889.0</td>\n",
       "      <td>1880.0</td>\n",
       "      <td>2.1</td>\n",
       "      <td>1127.0</td>\n",
       "      <td>878.0</td>\n",
       "      <td>35.00</td>\n",
       "      <td>0.998</td>\n",
       "      <td>745.0</td>\n",
       "      <td>6.0</td>\n",
       "    </tr>\n",
       "    <tr>\n",
       "      <th>61</th>\n",
       "      <td>0.0</td>\n",
       "      <td>0.0</td>\n",
       "      <td>0.0</td>\n",
       "      <td>2020</td>\n",
       "      <td>31.0</td>\n",
       "      <td>81.0</td>\n",
       "      <td>2.6</td>\n",
       "      <td>65.0</td>\n",
       "      <td>67.0</td>\n",
       "      <td>53.00</td>\n",
       "      <td>0.987</td>\n",
       "      <td>296.0</td>\n",
       "      <td>6.0</td>\n",
       "    </tr>\n",
       "    <tr>\n",
       "      <th>62</th>\n",
       "      <td>0.0</td>\n",
       "      <td>0.0</td>\n",
       "      <td>0.0</td>\n",
       "      <td>2019</td>\n",
       "      <td>195.0</td>\n",
       "      <td>426.0</td>\n",
       "      <td>2.2</td>\n",
       "      <td>290.0</td>\n",
       "      <td>184.0</td>\n",
       "      <td>67.00</td>\n",
       "      <td>0.956</td>\n",
       "      <td>409.0</td>\n",
       "      <td>1.0</td>\n",
       "    </tr>\n",
       "    <tr>\n",
       "      <th>63</th>\n",
       "      <td>0.0</td>\n",
       "      <td>0.0</td>\n",
       "      <td>0.0</td>\n",
       "      <td>2021</td>\n",
       "      <td>126.0</td>\n",
       "      <td>106.0</td>\n",
       "      <td>0.8</td>\n",
       "      <td>101.0</td>\n",
       "      <td>105.0</td>\n",
       "      <td>32.00</td>\n",
       "      <td>1.027</td>\n",
       "      <td>306.0</td>\n",
       "      <td>6.0</td>\n",
       "    </tr>\n",
       "    <tr>\n",
       "      <th>64</th>\n",
       "      <td>0.0</td>\n",
       "      <td>0.0</td>\n",
       "      <td>0.0</td>\n",
       "      <td>2021</td>\n",
       "      <td>672.0</td>\n",
       "      <td>1361.0</td>\n",
       "      <td>2.0</td>\n",
       "      <td>909.0</td>\n",
       "      <td>614.0</td>\n",
       "      <td>38.00</td>\n",
       "      <td>1.002</td>\n",
       "      <td>819.0</td>\n",
       "      <td>6.0</td>\n",
       "    </tr>\n",
       "  </tbody>\n",
       "</table>\n",
       "<p>65 rows × 13 columns</p>\n",
       "</div>"
      ],
      "text/plain": [
       "     RM  PTRATIO  LSTAT  year  Units Sold  Active Listings  \\\n",
       "0   0.0      0.0    0.0  2020       170.0            295.0   \n",
       "1   0.0      0.0    0.0  2020       106.0            305.0   \n",
       "2   0.0      0.0    0.0  2022      1692.0           1770.0   \n",
       "3   0.0      0.0    0.0  2019       425.0            795.0   \n",
       "4   0.0      0.0    0.0  2020       324.0           1321.0   \n",
       "..  ...      ...    ...   ...         ...              ...   \n",
       "60  0.0      0.0    0.0  2019       889.0           1880.0   \n",
       "61  0.0      0.0    0.0  2020        31.0             81.0   \n",
       "62  0.0      0.0    0.0  2019       195.0            426.0   \n",
       "63  0.0      0.0    0.0  2021       126.0            106.0   \n",
       "64  0.0      0.0    0.0  2021       672.0           1361.0   \n",
       "\n",
       "    Months Supply of Inventory  New Listings  Pending Sales  \\\n",
       "0                          1.7         172.0          156.0   \n",
       "1                          2.9         134.0           79.0   \n",
       "2                          1.0        2096.0         1466.0   \n",
       "3                          1.9         528.0          454.0   \n",
       "4                          4.1         912.0          461.0   \n",
       "..                         ...           ...            ...   \n",
       "60                         2.1        1127.0          878.0   \n",
       "61                         2.6          65.0           67.0   \n",
       "62                         2.2         290.0          184.0   \n",
       "63                         0.8         101.0          105.0   \n",
       "64                         2.0         909.0          614.0   \n",
       "\n",
       "    Days to Off Market  Sold to Original Price Ratio  Price per Square Foot  \\\n",
       "0                 0.71                         0.964                  253.0   \n",
       "1                99.00                         0.939                  320.0   \n",
       "2                17.00                         1.076                  418.0   \n",
       "3                36.00                         1.005                  445.0   \n",
       "4                38.00                         0.986                  734.0   \n",
       "..                 ...                           ...                    ...   \n",
       "60               35.00                         0.998                  745.0   \n",
       "61               53.00                         0.987                  296.0   \n",
       "62               67.00                         0.956                  409.0   \n",
       "63               32.00                         1.027                  306.0   \n",
       "64               38.00                         1.002                  819.0   \n",
       "\n",
       "    month  \n",
       "0     1.0  \n",
       "1     1.0  \n",
       "2     6.0  \n",
       "3     6.0  \n",
       "4     6.0  \n",
       "..    ...  \n",
       "60    6.0  \n",
       "61    6.0  \n",
       "62    1.0  \n",
       "63    6.0  \n",
       "64    6.0  \n",
       "\n",
       "[65 rows x 13 columns]"
      ]
     },
     "execution_count": 5,
     "metadata": {},
     "output_type": "execute_result"
    }
   ],
   "source": [
    "data['X_test']"
   ]
  },
  {
   "cell_type": "markdown",
   "metadata": {},
   "source": [
    "## Predict the housing price of 3 years future"
   ]
  },
  {
   "cell_type": "code",
   "execution_count": 6,
   "metadata": {},
   "outputs": [
    {
     "data": {
      "text/html": [
       "<div>\n",
       "<style scoped>\n",
       "    .dataframe tbody tr th:only-of-type {\n",
       "        vertical-align: middle;\n",
       "    }\n",
       "\n",
       "    .dataframe tbody tr th {\n",
       "        vertical-align: top;\n",
       "    }\n",
       "\n",
       "    .dataframe thead th {\n",
       "        text-align: right;\n",
       "    }\n",
       "</style>\n",
       "<table border=\"1\" class=\"dataframe\">\n",
       "  <thead>\n",
       "    <tr style=\"text-align: right;\">\n",
       "      <th></th>\n",
       "      <th>RM</th>\n",
       "      <th>PTRATIO</th>\n",
       "      <th>LSTAT</th>\n",
       "      <th>year</th>\n",
       "      <th>Units Sold</th>\n",
       "      <th>Active Listings</th>\n",
       "      <th>Months Supply of Inventory</th>\n",
       "      <th>New Listings</th>\n",
       "      <th>Pending Sales</th>\n",
       "      <th>Days to Off Market</th>\n",
       "      <th>Sold to Original Price Ratio</th>\n",
       "      <th>Price per Square Foot</th>\n",
       "      <th>month</th>\n",
       "    </tr>\n",
       "  </thead>\n",
       "  <tbody>\n",
       "    <tr>\n",
       "      <th>0</th>\n",
       "      <td>0.0</td>\n",
       "      <td>0.0</td>\n",
       "      <td>0.0</td>\n",
       "      <td>2023</td>\n",
       "      <td>170.0</td>\n",
       "      <td>295.0</td>\n",
       "      <td>1.7</td>\n",
       "      <td>172.0</td>\n",
       "      <td>156.0</td>\n",
       "      <td>0.71</td>\n",
       "      <td>0.964</td>\n",
       "      <td>253.0</td>\n",
       "      <td>1.0</td>\n",
       "    </tr>\n",
       "    <tr>\n",
       "      <th>1</th>\n",
       "      <td>0.0</td>\n",
       "      <td>0.0</td>\n",
       "      <td>0.0</td>\n",
       "      <td>2023</td>\n",
       "      <td>106.0</td>\n",
       "      <td>305.0</td>\n",
       "      <td>2.9</td>\n",
       "      <td>134.0</td>\n",
       "      <td>79.0</td>\n",
       "      <td>99.00</td>\n",
       "      <td>0.939</td>\n",
       "      <td>320.0</td>\n",
       "      <td>1.0</td>\n",
       "    </tr>\n",
       "    <tr>\n",
       "      <th>2</th>\n",
       "      <td>0.0</td>\n",
       "      <td>0.0</td>\n",
       "      <td>0.0</td>\n",
       "      <td>2025</td>\n",
       "      <td>1692.0</td>\n",
       "      <td>1770.0</td>\n",
       "      <td>1.0</td>\n",
       "      <td>2096.0</td>\n",
       "      <td>1466.0</td>\n",
       "      <td>17.00</td>\n",
       "      <td>1.076</td>\n",
       "      <td>418.0</td>\n",
       "      <td>6.0</td>\n",
       "    </tr>\n",
       "    <tr>\n",
       "      <th>3</th>\n",
       "      <td>0.0</td>\n",
       "      <td>0.0</td>\n",
       "      <td>0.0</td>\n",
       "      <td>2022</td>\n",
       "      <td>425.0</td>\n",
       "      <td>795.0</td>\n",
       "      <td>1.9</td>\n",
       "      <td>528.0</td>\n",
       "      <td>454.0</td>\n",
       "      <td>36.00</td>\n",
       "      <td>1.005</td>\n",
       "      <td>445.0</td>\n",
       "      <td>6.0</td>\n",
       "    </tr>\n",
       "    <tr>\n",
       "      <th>4</th>\n",
       "      <td>0.0</td>\n",
       "      <td>0.0</td>\n",
       "      <td>0.0</td>\n",
       "      <td>2023</td>\n",
       "      <td>324.0</td>\n",
       "      <td>1321.0</td>\n",
       "      <td>4.1</td>\n",
       "      <td>912.0</td>\n",
       "      <td>461.0</td>\n",
       "      <td>38.00</td>\n",
       "      <td>0.986</td>\n",
       "      <td>734.0</td>\n",
       "      <td>6.0</td>\n",
       "    </tr>\n",
       "  </tbody>\n",
       "</table>\n",
       "</div>"
      ],
      "text/plain": [
       "    RM  PTRATIO  LSTAT  year  Units Sold  Active Listings  \\\n",
       "0  0.0      0.0    0.0  2023       170.0            295.0   \n",
       "1  0.0      0.0    0.0  2023       106.0            305.0   \n",
       "2  0.0      0.0    0.0  2025      1692.0           1770.0   \n",
       "3  0.0      0.0    0.0  2022       425.0            795.0   \n",
       "4  0.0      0.0    0.0  2023       324.0           1321.0   \n",
       "\n",
       "   Months Supply of Inventory  New Listings  Pending Sales  \\\n",
       "0                         1.7         172.0          156.0   \n",
       "1                         2.9         134.0           79.0   \n",
       "2                         1.0        2096.0         1466.0   \n",
       "3                         1.9         528.0          454.0   \n",
       "4                         4.1         912.0          461.0   \n",
       "\n",
       "   Days to Off Market  Sold to Original Price Ratio  Price per Square Foot  \\\n",
       "0                0.71                         0.964                  253.0   \n",
       "1               99.00                         0.939                  320.0   \n",
       "2               17.00                         1.076                  418.0   \n",
       "3               36.00                         1.005                  445.0   \n",
       "4               38.00                         0.986                  734.0   \n",
       "\n",
       "   month  \n",
       "0    1.0  \n",
       "1    1.0  \n",
       "2    6.0  \n",
       "3    6.0  \n",
       "4    6.0  "
      ]
     },
     "execution_count": 6,
     "metadata": {},
     "output_type": "execute_result"
    }
   ],
   "source": [
    "data['future_pred'] = data['X_test']\n",
    "data['future_pred']['year'] = data['future_pred']['year'] + 3\n",
    "data['future_pred'].head()"
   ]
  },
  {
   "cell_type": "code",
   "execution_count": 7,
   "metadata": {},
   "outputs": [
    {
     "data": {
      "text/plain": [
       "(torch.Size([65, 13]), torch.Size([65]))"
      ]
     },
     "execution_count": 7,
     "metadata": {},
     "output_type": "execute_result"
    }
   ],
   "source": [
    "X_future_pred, y_test = convert_tensor(data['future_pred'], data['y_test'])\n",
    "X_future_pred.shape, y_test.shape"
   ]
  },
  {
   "cell_type": "code",
   "execution_count": 8,
   "metadata": {},
   "outputs": [
    {
     "data": {
      "text/plain": [
       "<torch.utils.data.dataloader.DataLoader at 0x7f9e5f525e50>"
      ]
     },
     "execution_count": 8,
     "metadata": {},
     "output_type": "execute_result"
    }
   ],
   "source": [
    "roi_loader = create_dataloader(X_future_pred, y_test, batch_size=1)\n",
    "roi_loader"
   ]
  },
  {
   "cell_type": "code",
   "execution_count": 9,
   "metadata": {
    "scrolled": true
   },
   "outputs": [
    {
     "data": {
      "text/plain": [
       "<All keys matched successfully>"
      ]
     },
     "execution_count": 9,
     "metadata": {},
     "output_type": "execute_result"
    }
   ],
   "source": [
    "params = {'num_layers': 20,\n",
    "          'hidden_dim':13**2,\n",
    "          'epoch': 1000,\n",
    "          'lr': 1.5e-5,\n",
    "          'loss_function':F.l1_loss}\n",
    "\n",
    "model = ANN(input_dim=13, hidden_dim=params['hidden_dim'], output_dim=1, num_layers=params['num_layers'])\n",
    "PATH = './saves/ann_20_1000.pth'\n",
    "saved_model = torch.load(PATH)\n",
    "model.load_state_dict(saved_model['model'])"
   ]
  },
  {
   "cell_type": "code",
   "execution_count": 10,
   "metadata": {
    "scrolled": true
   },
   "outputs": [
    {
     "name": "stdout",
     "output_type": "stream",
     "text": [
      "ANN(\n",
      "  (flatten): Flatten(start_dim=1, end_dim=-1)\n",
      "  (layers): Sequential(\n",
      "    (0): Linear(in_features=13, out_features=169, bias=True)\n",
      "    (1): ReLU()\n",
      "    (2): Linear(in_features=169, out_features=169, bias=True)\n",
      "    (3): ReLU()\n",
      "    (4): Linear(in_features=169, out_features=169, bias=True)\n",
      "    (5): ReLU()\n",
      "    (6): Linear(in_features=169, out_features=169, bias=True)\n",
      "    (7): ReLU()\n",
      "    (8): Linear(in_features=169, out_features=169, bias=True)\n",
      "    (9): ReLU()\n",
      "    (10): Linear(in_features=169, out_features=169, bias=True)\n",
      "    (11): ReLU()\n",
      "    (12): Linear(in_features=169, out_features=169, bias=True)\n",
      "    (13): ReLU()\n",
      "    (14): Linear(in_features=169, out_features=169, bias=True)\n",
      "    (15): ReLU()\n",
      "    (16): Linear(in_features=169, out_features=169, bias=True)\n",
      "    (17): ReLU()\n",
      "    (18): Linear(in_features=169, out_features=169, bias=True)\n",
      "    (19): ReLU()\n",
      "    (20): Linear(in_features=169, out_features=169, bias=True)\n",
      "    (21): ReLU()\n",
      "    (22): Linear(in_features=169, out_features=169, bias=True)\n",
      "    (23): ReLU()\n",
      "    (24): Linear(in_features=169, out_features=169, bias=True)\n",
      "    (25): ReLU()\n",
      "    (26): Linear(in_features=169, out_features=169, bias=True)\n",
      "    (27): ReLU()\n",
      "    (28): Linear(in_features=169, out_features=169, bias=True)\n",
      "    (29): ReLU()\n",
      "    (30): Linear(in_features=169, out_features=169, bias=True)\n",
      "    (31): ReLU()\n",
      "    (32): Linear(in_features=169, out_features=169, bias=True)\n",
      "    (33): ReLU()\n",
      "    (34): Linear(in_features=169, out_features=169, bias=True)\n",
      "    (35): ReLU()\n",
      "    (36): Linear(in_features=169, out_features=169, bias=True)\n",
      "    (37): ReLU()\n",
      "    (38): Linear(in_features=169, out_features=169, bias=True)\n",
      "    (39): ReLU()\n",
      "  )\n",
      "  (final_layer): Linear(in_features=169, out_features=1, bias=True)\n",
      ")\n"
     ]
    }
   ],
   "source": [
    "print(model)"
   ]
  },
  {
   "cell_type": "code",
   "execution_count": null,
   "metadata": {},
   "outputs": [],
   "source": []
  },
  {
   "cell_type": "code",
   "execution_count": 11,
   "metadata": {},
   "outputs": [],
   "source": [
    "with torch.no_grad():\n",
    "    model.eval()\n",
    "    y_pred = []\n",
    "    y_true = []\n",
    "    year = []\n",
    "    for i, batch in enumerate(roi_loader):\n",
    "        output = model(batch[0]).reshape(-1)\n",
    "        y_pred.append(output.detach().numpy())\n",
    "        y_true.append(batch[1].detach().numpy())\n",
    "        year.append(np.array(batch[0][:, 3]))"
   ]
  },
  {
   "cell_type": "code",
   "execution_count": 12,
   "metadata": {},
   "outputs": [
    {
     "data": {
      "text/plain": [
       "array([2020., 2021., 2022., 2023., 2024., 2025.], dtype=float32)"
      ]
     },
     "execution_count": 12,
     "metadata": {},
     "output_type": "execute_result"
    }
   ],
   "source": [
    "year = np.array(year)\n",
    "np.unique(year)"
   ]
  },
  {
   "cell_type": "code",
   "execution_count": 13,
   "metadata": {},
   "outputs": [
    {
     "data": {
      "text/plain": [
       "{'medv_2020': [],\n",
       " 'medv_2021': [],\n",
       " 'medv_2022': [],\n",
       " 'medv_2023': [],\n",
       " 'medv_2024': [],\n",
       " 'medv_2025': []}"
      ]
     },
     "execution_count": 13,
     "metadata": {},
     "output_type": "execute_result"
    }
   ],
   "source": [
    "obj = {}\n",
    "for y in np.unique(year):\n",
    "    y = int(y)\n",
    "    s = 'medv_' + str(y)\n",
    "    obj[s] = []\n",
    "obj"
   ]
  },
  {
   "cell_type": "code",
   "execution_count": 14,
   "metadata": {},
   "outputs": [],
   "source": [
    "for i in range(len(year)):\n",
    "    if year[i] == 2020:\n",
    "        obj['medv_'+ str(int(year[i]))].append((y_pred[i], y_true[i]))\n",
    "    elif year[i] == 2021:\n",
    "        obj['medv_'+ str(int(year[i]))].append([y_pred[i], y_true[i]])\n",
    "    elif year[i] == 2022:\n",
    "        obj['medv_'+ str(int(year[i]))].append([y_pred[i], y_true[i]])\n",
    "    elif year[i] == 2023:\n",
    "        obj['medv_'+ str(int(year[i]))].append([y_pred[i], y_true[i]])\n",
    "    elif year[i] == 2024:\n",
    "        obj['medv_'+ str(int(year[i]))].append([y_pred[i], y_true[i]])\n",
    "    elif year[i] == 2025:\n",
    "        obj['medv_'+ str(int(year[i]))].append([y_pred[i], y_true[i]])"
   ]
  },
  {
   "cell_type": "code",
   "execution_count": 15,
   "metadata": {},
   "outputs": [],
   "source": [
    "for dic in list(obj.keys()):\n",
    "    obj[dic] = np.array(obj[dic]).reshape(-1, 2)"
   ]
  },
  {
   "cell_type": "code",
   "execution_count": 16,
   "metadata": {},
   "outputs": [
    {
     "data": {
      "image/png": "[encoded data removed]",
      "text/plain": [
       "<Figure size 432x288 with 1 Axes>"
      ]
     },
     "metadata": {
      "needs_background": "light"
     },
     "output_type": "display_data"
    },
    {
     "data": {
      "image/png": "[encoded data removed]",
      "text/plain": [
       "<Figure size 432x288 with 1 Axes>"
      ]
     },
     "metadata": {
      "needs_background": "light"
     },
     "output_type": "display_data"
    },
    {
     "data": {
      "image/png": "[encoded data removed]",
      "text/plain": [
       "<Figure size 432x288 with 1 Axes>"
      ]
     },
     "metadata": {
      "needs_background": "light"
     },
     "output_type": "display_data"
    },
    {
     "data": {
      "image/png": "[encoded data removed]",
      "text/plain": [
       "<Figure size 432x288 with 1 Axes>"
      ]
     },
     "metadata": {
      "needs_background": "light"
     },
     "output_type": "display_data"
    },
    {
     "data": {
      "image/png": "[encoded data removed]",
      "text/plain": [
       "<Figure size 432x288 with 1 Axes>"
      ]
     },
     "metadata": {
      "needs_background": "light"
     },
     "output_type": "display_data"
    },
    {
     "data": {
      "image/png": "[encoded data removed]",
      "text/plain": [
       "<Figure size 432x288 with 1 Axes>"
      ]
     },
     "metadata": {
      "needs_background": "light"
     },
     "output_type": "display_data"
    }
   ],
   "source": [
    "for dic in list(obj.keys()):\n",
    "    width = 0.4\n",
    "    x_dummy = np.linspace(1, len(obj[dic][:, 0]), len(obj[dic][:, 0]))\n",
    "\n",
    "    plt.bar(x_dummy+0.2, obj[dic][:, 0], width/2, label='Future')\n",
    "    plt.bar(x_dummy, obj[dic][:, 1], width/2, label='Current')\n",
    "    plt.legend()\n",
    "    plt.xlabel('data')\n",
    "    plt.ylabel('MEDV / $1000')\n",
    "    \n",
    "    current_year = int(dic.split('_')[1]) - 3\n",
    "    predicted_year = int(dic.split('_')[1])\n",
    "    \n",
    "    plt.title(f'MEDV {current_year} -> {predicted_year}')\n",
    "    plt.show()\n"
   ]
  },
  {
   "cell_type": "code",
   "execution_count": 17,
   "metadata": {},
   "outputs": [
    {
     "data": {
      "text/plain": [
       "dict_keys(['medv_2020', 'medv_2021', 'medv_2022', 'medv_2023', 'medv_2024', 'medv_2025'])"
      ]
     },
     "execution_count": 17,
     "metadata": {},
     "output_type": "execute_result"
    }
   ],
   "source": [
    "obj.keys()"
   ]
  },
  {
   "cell_type": "code",
   "execution_count": 18,
   "metadata": {},
   "outputs": [
    {
     "data": {
      "image/png": "[encoded data removed]",
      "text/plain": [
       "<Figure size 432x288 with 6 Axes>"
      ]
     },
     "metadata": {
      "needs_background": "light"
     },
     "output_type": "display_data"
    }
   ],
   "source": [
    "fig, axs = plt.subplots(2, 3)\n",
    "m, n, l = 0, 0, 0\n",
    "width = 0.4\n",
    "\n",
    "for i in range(len(list(obj.keys()))):\n",
    "    x_dummy = np.linspace(1, len(obj[list(obj.keys())[i]][:, 0]), len(obj[list(obj.keys())[i]][:, 0]))\n",
    "    if i % 2 == 0:\n",
    "        current_year = int(list(obj.keys())[i].split('_')[1]) - 3\n",
    "        predicted_year = int(list(obj.keys())[i].split('_')[1])\n",
    "        \n",
    "        axs[0, m].bar(x_dummy, obj[list(obj.keys())[i]][:, 0], width/2, label='Future') \n",
    "        axs[0, m].bar(x_dummy+width/2, obj[list(obj.keys())[i]][:, 1], width/2, label='Current')\n",
    "        axs[0, m].set_title(f'MEDV {current_year} -> {predicted_year}')\n",
    "    \n",
    "        m += 1\n",
    "        \n",
    "    elif i % 2 == 1:\n",
    "        current_year = int(list(obj.keys())[i].split('_')[1]) - 3\n",
    "        predicted_year = int(list(obj.keys())[i].split('_')[1])\n",
    "        \n",
    "        axs[1, n].bar(x_dummy, obj[list(obj.keys())[i]][:, 0], width/2, label='predicted') \n",
    "        axs[1, n].bar(x_dummy+width/2, obj[list(obj.keys())[i]][:, 1], width/2, label='actual')\n",
    "        axs[1, n].set_title(f'MEDV {current_year} -> {predicted_year}')\n",
    "        n += 1\n",
    "            \n",
    "for ax in axs.flat:\n",
    "    ax.set(xlabel='data', ylabel='MEDV / $1000')\n",
    "\n",
    "fig.tight_layout()\n",
    "plt.legend(loc=(1.8, 1))\n",
    "fig.suptitle('Housing Prices for three years prediction', y=1.05)\n",
    "fig.savefig('./figure/medv_ann_3yrs_pred.pdf', dpi=300, bbox_inches='tight')"
   ]
  },
  {
   "cell_type": "markdown",
   "metadata": {},
   "source": [
    "## ROI prediction for five years\n",
    "#### All data for 2020 to predict 2025"
   ]
  },
  {
   "cell_type": "code",
   "execution_count": 42,
   "metadata": {},
   "outputs": [],
   "source": [
    "num_year = 5"
   ]
  },
  {
   "cell_type": "code",
   "execution_count": 43,
   "metadata": {},
   "outputs": [
    {
     "data": {
      "text/html": [
       "<div>\n",
       "<style scoped>\n",
       "    .dataframe tbody tr th:only-of-type {\n",
       "        vertical-align: middle;\n",
       "    }\n",
       "\n",
       "    .dataframe tbody tr th {\n",
       "        vertical-align: top;\n",
       "    }\n",
       "\n",
       "    .dataframe thead th {\n",
       "        text-align: right;\n",
       "    }\n",
       "</style>\n",
       "<table border=\"1\" class=\"dataframe\">\n",
       "  <thead>\n",
       "    <tr style=\"text-align: right;\">\n",
       "      <th></th>\n",
       "      <th>RM</th>\n",
       "      <th>PTRATIO</th>\n",
       "      <th>LSTAT</th>\n",
       "      <th>year</th>\n",
       "      <th>Units Sold</th>\n",
       "      <th>Active Listings</th>\n",
       "      <th>Months Supply of Inventory</th>\n",
       "      <th>New Listings</th>\n",
       "      <th>Pending Sales</th>\n",
       "      <th>Days to Off Market</th>\n",
       "      <th>Sold to Original Price Ratio</th>\n",
       "      <th>Price per Square Foot</th>\n",
       "      <th>month</th>\n",
       "    </tr>\n",
       "  </thead>\n",
       "  <tbody>\n",
       "    <tr>\n",
       "      <th>0</th>\n",
       "      <td>0.0</td>\n",
       "      <td>0.0</td>\n",
       "      <td>0.0</td>\n",
       "      <td>2023</td>\n",
       "      <td>170.0</td>\n",
       "      <td>295.0</td>\n",
       "      <td>1.7</td>\n",
       "      <td>172.0</td>\n",
       "      <td>156.0</td>\n",
       "      <td>0.71</td>\n",
       "      <td>0.964</td>\n",
       "      <td>253.0</td>\n",
       "      <td>1.0</td>\n",
       "    </tr>\n",
       "    <tr>\n",
       "      <th>1</th>\n",
       "      <td>0.0</td>\n",
       "      <td>0.0</td>\n",
       "      <td>0.0</td>\n",
       "      <td>2023</td>\n",
       "      <td>106.0</td>\n",
       "      <td>305.0</td>\n",
       "      <td>2.9</td>\n",
       "      <td>134.0</td>\n",
       "      <td>79.0</td>\n",
       "      <td>99.00</td>\n",
       "      <td>0.939</td>\n",
       "      <td>320.0</td>\n",
       "      <td>1.0</td>\n",
       "    </tr>\n",
       "    <tr>\n",
       "      <th>2</th>\n",
       "      <td>0.0</td>\n",
       "      <td>0.0</td>\n",
       "      <td>0.0</td>\n",
       "      <td>2025</td>\n",
       "      <td>1692.0</td>\n",
       "      <td>1770.0</td>\n",
       "      <td>1.0</td>\n",
       "      <td>2096.0</td>\n",
       "      <td>1466.0</td>\n",
       "      <td>17.00</td>\n",
       "      <td>1.076</td>\n",
       "      <td>418.0</td>\n",
       "      <td>6.0</td>\n",
       "    </tr>\n",
       "    <tr>\n",
       "      <th>3</th>\n",
       "      <td>0.0</td>\n",
       "      <td>0.0</td>\n",
       "      <td>0.0</td>\n",
       "      <td>2022</td>\n",
       "      <td>425.0</td>\n",
       "      <td>795.0</td>\n",
       "      <td>1.9</td>\n",
       "      <td>528.0</td>\n",
       "      <td>454.0</td>\n",
       "      <td>36.00</td>\n",
       "      <td>1.005</td>\n",
       "      <td>445.0</td>\n",
       "      <td>6.0</td>\n",
       "    </tr>\n",
       "    <tr>\n",
       "      <th>4</th>\n",
       "      <td>0.0</td>\n",
       "      <td>0.0</td>\n",
       "      <td>0.0</td>\n",
       "      <td>2023</td>\n",
       "      <td>324.0</td>\n",
       "      <td>1321.0</td>\n",
       "      <td>4.1</td>\n",
       "      <td>912.0</td>\n",
       "      <td>461.0</td>\n",
       "      <td>38.00</td>\n",
       "      <td>0.986</td>\n",
       "      <td>734.0</td>\n",
       "      <td>6.0</td>\n",
       "    </tr>\n",
       "  </tbody>\n",
       "</table>\n",
       "</div>"
      ],
      "text/plain": [
       "    RM  PTRATIO  LSTAT  year  Units Sold  Active Listings  \\\n",
       "0  0.0      0.0    0.0  2023       170.0            295.0   \n",
       "1  0.0      0.0    0.0  2023       106.0            305.0   \n",
       "2  0.0      0.0    0.0  2025      1692.0           1770.0   \n",
       "3  0.0      0.0    0.0  2022       425.0            795.0   \n",
       "4  0.0      0.0    0.0  2023       324.0           1321.0   \n",
       "\n",
       "   Months Supply of Inventory  New Listings  Pending Sales  \\\n",
       "0                         1.7         172.0          156.0   \n",
       "1                         2.9         134.0           79.0   \n",
       "2                         1.0        2096.0         1466.0   \n",
       "3                         1.9         528.0          454.0   \n",
       "4                         4.1         912.0          461.0   \n",
       "\n",
       "   Days to Off Market  Sold to Original Price Ratio  Price per Square Foot  \\\n",
       "0                0.71                         0.964                  253.0   \n",
       "1               99.00                         0.939                  320.0   \n",
       "2               17.00                         1.076                  418.0   \n",
       "3               36.00                         1.005                  445.0   \n",
       "4               38.00                         0.986                  734.0   \n",
       "\n",
       "   month  \n",
       "0    1.0  \n",
       "1    1.0  \n",
       "2    6.0  \n",
       "3    6.0  \n",
       "4    6.0  "
      ]
     },
     "execution_count": 43,
     "metadata": {},
     "output_type": "execute_result"
    }
   ],
   "source": [
    "data['X_test'].head()"
   ]
  },
  {
   "cell_type": "code",
   "execution_count": 44,
   "metadata": {},
   "outputs": [
    {
     "name": "stderr",
     "output_type": "stream",
     "text": [
      "/Users/manami/anaconda3/lib/python3.7/site-packages/ipykernel_launcher.py:2: SettingWithCopyWarning: \n",
      "A value is trying to be set on a copy of a slice from a DataFrame.\n",
      "Try using .loc[row_indexer,col_indexer] = value instead\n",
      "\n",
      "See the caveats in the documentation: https://pandas.pydata.org/pandas-docs/stable/user_guide/indexing.html#returning-a-view-versus-a-copy\n",
      "  \n"
     ]
    },
    {
     "data": {
      "text/html": [
       "<div>\n",
       "<style scoped>\n",
       "    .dataframe tbody tr th:only-of-type {\n",
       "        vertical-align: middle;\n",
       "    }\n",
       "\n",
       "    .dataframe tbody tr th {\n",
       "        vertical-align: top;\n",
       "    }\n",
       "\n",
       "    .dataframe thead th {\n",
       "        text-align: right;\n",
       "    }\n",
       "</style>\n",
       "<table border=\"1\" class=\"dataframe\">\n",
       "  <thead>\n",
       "    <tr style=\"text-align: right;\">\n",
       "      <th></th>\n",
       "      <th>RM</th>\n",
       "      <th>PTRATIO</th>\n",
       "      <th>LSTAT</th>\n",
       "      <th>year</th>\n",
       "      <th>Units Sold</th>\n",
       "      <th>Active Listings</th>\n",
       "      <th>Months Supply of Inventory</th>\n",
       "      <th>New Listings</th>\n",
       "      <th>Pending Sales</th>\n",
       "      <th>Days to Off Market</th>\n",
       "      <th>Sold to Original Price Ratio</th>\n",
       "      <th>Price per Square Foot</th>\n",
       "      <th>month</th>\n",
       "    </tr>\n",
       "  </thead>\n",
       "  <tbody>\n",
       "    <tr>\n",
       "      <th>5</th>\n",
       "      <td>0.0</td>\n",
       "      <td>0.0</td>\n",
       "      <td>0.0</td>\n",
       "      <td>2025</td>\n",
       "      <td>6.0</td>\n",
       "      <td>62.0</td>\n",
       "      <td>1.7</td>\n",
       "      <td>8.0</td>\n",
       "      <td>4.0</td>\n",
       "      <td>43.0</td>\n",
       "      <td>1.005</td>\n",
       "      <td>190.0</td>\n",
       "      <td>1.0</td>\n",
       "    </tr>\n",
       "    <tr>\n",
       "      <th>8</th>\n",
       "      <td>0.0</td>\n",
       "      <td>0.0</td>\n",
       "      <td>0.0</td>\n",
       "      <td>2025</td>\n",
       "      <td>98.0</td>\n",
       "      <td>132.0</td>\n",
       "      <td>1.4</td>\n",
       "      <td>74.0</td>\n",
       "      <td>69.0</td>\n",
       "      <td>43.0</td>\n",
       "      <td>0.998</td>\n",
       "      <td>204.0</td>\n",
       "      <td>6.0</td>\n",
       "    </tr>\n",
       "    <tr>\n",
       "      <th>21</th>\n",
       "      <td>0.0</td>\n",
       "      <td>0.0</td>\n",
       "      <td>0.0</td>\n",
       "      <td>2025</td>\n",
       "      <td>379.0</td>\n",
       "      <td>626.0</td>\n",
       "      <td>1.7</td>\n",
       "      <td>327.0</td>\n",
       "      <td>288.0</td>\n",
       "      <td>41.0</td>\n",
       "      <td>0.992</td>\n",
       "      <td>247.0</td>\n",
       "      <td>6.0</td>\n",
       "    </tr>\n",
       "    <tr>\n",
       "      <th>23</th>\n",
       "      <td>0.0</td>\n",
       "      <td>0.0</td>\n",
       "      <td>0.0</td>\n",
       "      <td>2025</td>\n",
       "      <td>8.0</td>\n",
       "      <td>29.0</td>\n",
       "      <td>3.6</td>\n",
       "      <td>16.0</td>\n",
       "      <td>15.0</td>\n",
       "      <td>56.0</td>\n",
       "      <td>0.945</td>\n",
       "      <td>617.0</td>\n",
       "      <td>6.0</td>\n",
       "    </tr>\n",
       "    <tr>\n",
       "      <th>29</th>\n",
       "      <td>0.0</td>\n",
       "      <td>0.0</td>\n",
       "      <td>0.0</td>\n",
       "      <td>2025</td>\n",
       "      <td>43.0</td>\n",
       "      <td>150.0</td>\n",
       "      <td>1.4</td>\n",
       "      <td>45.0</td>\n",
       "      <td>35.0</td>\n",
       "      <td>28.0</td>\n",
       "      <td>1.011</td>\n",
       "      <td>260.0</td>\n",
       "      <td>1.0</td>\n",
       "    </tr>\n",
       "  </tbody>\n",
       "</table>\n",
       "</div>"
      ],
      "text/plain": [
       "     RM  PTRATIO  LSTAT  year  Units Sold  Active Listings  \\\n",
       "5   0.0      0.0    0.0  2025         6.0             62.0   \n",
       "8   0.0      0.0    0.0  2025        98.0            132.0   \n",
       "21  0.0      0.0    0.0  2025       379.0            626.0   \n",
       "23  0.0      0.0    0.0  2025         8.0             29.0   \n",
       "29  0.0      0.0    0.0  2025        43.0            150.0   \n",
       "\n",
       "    Months Supply of Inventory  New Listings  Pending Sales  \\\n",
       "5                          1.7           8.0            4.0   \n",
       "8                          1.4          74.0           69.0   \n",
       "21                         1.7         327.0          288.0   \n",
       "23                         3.6          16.0           15.0   \n",
       "29                         1.4          45.0           35.0   \n",
       "\n",
       "    Days to Off Market  Sold to Original Price Ratio  Price per Square Foot  \\\n",
       "5                 43.0                         1.005                  190.0   \n",
       "8                 43.0                         0.998                  204.0   \n",
       "21                41.0                         0.992                  247.0   \n",
       "23                56.0                         0.945                  617.0   \n",
       "29                28.0                         1.011                  260.0   \n",
       "\n",
       "    month  \n",
       "5     1.0  \n",
       "8     6.0  \n",
       "21    6.0  \n",
       "23    6.0  \n",
       "29    1.0  "
      ]
     },
     "execution_count": 44,
     "metadata": {},
     "output_type": "execute_result"
    }
   ],
   "source": [
    "data['2020_future_pred'] = data['X_test'][data['X_test']['year'] == 2020]\n",
    "data['2020_future_pred']['year'] = data['2020_future_pred']['year'] + num_year\n",
    "data['2020_future_pred'].head()"
   ]
  },
  {
   "cell_type": "code",
   "execution_count": 45,
   "metadata": {},
   "outputs": [
    {
     "data": {
      "text/plain": [
       "array([ 5,  8, 21, 23, 29, 30, 31, 36, 42, 57])"
      ]
     },
     "execution_count": 45,
     "metadata": {},
     "output_type": "execute_result"
    }
   ],
   "source": [
    "data['2020_future_pred'].index.values"
   ]
  },
  {
   "cell_type": "code",
   "execution_count": 46,
   "metadata": {},
   "outputs": [],
   "source": [
    "new_y_test = []\n",
    "for i in data['2020_future_pred'].index.values:\n",
    "    new_y_test.append(data['y_test'][i])\n",
    "new_y_test = np.array(new_y_test)"
   ]
  },
  {
   "cell_type": "code",
   "execution_count": 47,
   "metadata": {},
   "outputs": [],
   "source": [
    "data['2020_y_test'] = pd.DataFrame(new_y_test)"
   ]
  },
  {
   "cell_type": "code",
   "execution_count": 48,
   "metadata": {},
   "outputs": [
    {
     "data": {
      "text/plain": [
       "(torch.Size([10, 13]), torch.Size([10, 1]))"
      ]
     },
     "execution_count": 48,
     "metadata": {},
     "output_type": "execute_result"
    }
   ],
   "source": [
    "X_future_pred, y_test = convert_tensor(data['2020_future_pred'], data['2020_y_test'])\n",
    "X_future_pred.shape, y_test.shape"
   ]
  },
  {
   "cell_type": "code",
   "execution_count": 49,
   "metadata": {},
   "outputs": [
    {
     "data": {
      "text/plain": [
       "<torch.utils.data.dataloader.DataLoader at 0x7f9e5f97f4d0>"
      ]
     },
     "execution_count": 49,
     "metadata": {},
     "output_type": "execute_result"
    }
   ],
   "source": [
    "roi_loader = create_dataloader(X_future_pred, y_test, batch_size=1)\n",
    "roi_loader"
   ]
  },
  {
   "cell_type": "code",
   "execution_count": 50,
   "metadata": {},
   "outputs": [
    {
     "data": {
      "text/plain": [
       "<All keys matched successfully>"
      ]
     },
     "execution_count": 50,
     "metadata": {},
     "output_type": "execute_result"
    }
   ],
   "source": [
    "params = {'num_layers': 20,\n",
    "          'hidden_dim':13**2,\n",
    "          'epoch': 1000,\n",
    "          'lr': 1.5e-5,\n",
    "          'loss_function':F.l1_loss}\n",
    "\n",
    "model = ANN(input_dim=13, hidden_dim=params['hidden_dim'], output_dim=1, num_layers=params['num_layers'])\n",
    "PATH = './saves/ann_20_1000.pth'\n",
    "saved_model = torch.load(PATH)\n",
    "model.load_state_dict(saved_model['model'])"
   ]
  },
  {
   "cell_type": "code",
   "execution_count": 51,
   "metadata": {},
   "outputs": [],
   "source": [
    "with torch.no_grad():\n",
    "    model.eval()\n",
    "    y_pred = []\n",
    "    y_true = []\n",
    "    year = []\n",
    "    for i, batch in enumerate(roi_loader):\n",
    "        output = model(batch[0]).reshape(-1)\n",
    "        y_pred.append(output.detach().numpy())\n",
    "        y_true.append(batch[1].detach().numpy())\n",
    "        year.append(np.array(batch[0][:, 3]))"
   ]
  },
  {
   "cell_type": "code",
   "execution_count": 52,
   "metadata": {},
   "outputs": [
    {
     "data": {
      "text/plain": [
       "{'medv_2025': []}"
      ]
     },
     "execution_count": 52,
     "metadata": {},
     "output_type": "execute_result"
    }
   ],
   "source": [
    "year = np.array(year)\n",
    "year = int(np.unique(year))\n",
    "obj = {'medv_' + str(year): []}\n",
    "obj"
   ]
  },
  {
   "cell_type": "code",
   "execution_count": 53,
   "metadata": {},
   "outputs": [],
   "source": [
    "for i in range(len(y_pred)):\n",
    "    roi = y_pred[i] - y_true[i]\n",
    "    obj['medv_2025'].append([float(y_pred[i]), float(y_true[i]), float(roi)])\n",
    "obj['medv_2025'] = np.array(obj['medv_2025'])"
   ]
  },
  {
   "cell_type": "code",
   "execution_count": 54,
   "metadata": {},
   "outputs": [
    {
     "data": {
      "text/plain": [
       "array([[ 291.74804688,  750.        , -458.25195312],\n",
       "       [ 329.18856812,  777.5       , -448.31143188],\n",
       "       [ 500.91360474,  395.        ,  105.91360474],\n",
       "       [ 532.44354248,  470.        ,   62.44354248],\n",
       "       [ 508.39102173,  416.75      ,   91.64102173],\n",
       "       [ 287.69442749,  281.5       ,    6.19442749],\n",
       "       [ 373.28894043,  379.        ,   -5.71105957],\n",
       "       [ 540.49035645,  509.8999939 ,   30.59036255],\n",
       "       [2021.38977051, 2450.        , -428.61022949],\n",
       "       [ 316.97900391,  766.25      , -449.27099609]])"
      ]
     },
     "execution_count": 54,
     "metadata": {},
     "output_type": "execute_result"
    }
   ],
   "source": [
    "## predicted, current, ROI\n",
    "obj['medv_2025'].reshape(-1, 3)"
   ]
  },
  {
   "cell_type": "code",
   "execution_count": 55,
   "metadata": {},
   "outputs": [
    {
     "data": {
      "text/html": [
       "<div>\n",
       "<style scoped>\n",
       "    .dataframe tbody tr th:only-of-type {\n",
       "        vertical-align: middle;\n",
       "    }\n",
       "\n",
       "    .dataframe tbody tr th {\n",
       "        vertical-align: top;\n",
       "    }\n",
       "\n",
       "    .dataframe thead th {\n",
       "        text-align: right;\n",
       "    }\n",
       "</style>\n",
       "<table border=\"1\" class=\"dataframe\">\n",
       "  <thead>\n",
       "    <tr style=\"text-align: right;\">\n",
       "      <th></th>\n",
       "      <th>2025</th>\n",
       "      <th>2020</th>\n",
       "      <th>ROI</th>\n",
       "    </tr>\n",
       "  </thead>\n",
       "  <tbody>\n",
       "    <tr>\n",
       "      <th>0</th>\n",
       "      <td>291.748047</td>\n",
       "      <td>750.000000</td>\n",
       "      <td>-458.251953</td>\n",
       "    </tr>\n",
       "    <tr>\n",
       "      <th>1</th>\n",
       "      <td>329.188568</td>\n",
       "      <td>777.500000</td>\n",
       "      <td>-448.311432</td>\n",
       "    </tr>\n",
       "    <tr>\n",
       "      <th>2</th>\n",
       "      <td>500.913605</td>\n",
       "      <td>395.000000</td>\n",
       "      <td>105.913605</td>\n",
       "    </tr>\n",
       "    <tr>\n",
       "      <th>3</th>\n",
       "      <td>532.443542</td>\n",
       "      <td>470.000000</td>\n",
       "      <td>62.443542</td>\n",
       "    </tr>\n",
       "    <tr>\n",
       "      <th>4</th>\n",
       "      <td>508.391022</td>\n",
       "      <td>416.750000</td>\n",
       "      <td>91.641022</td>\n",
       "    </tr>\n",
       "    <tr>\n",
       "      <th>5</th>\n",
       "      <td>287.694427</td>\n",
       "      <td>281.500000</td>\n",
       "      <td>6.194427</td>\n",
       "    </tr>\n",
       "    <tr>\n",
       "      <th>6</th>\n",
       "      <td>373.288940</td>\n",
       "      <td>379.000000</td>\n",
       "      <td>-5.711060</td>\n",
       "    </tr>\n",
       "    <tr>\n",
       "      <th>7</th>\n",
       "      <td>540.490356</td>\n",
       "      <td>509.899994</td>\n",
       "      <td>30.590363</td>\n",
       "    </tr>\n",
       "    <tr>\n",
       "      <th>8</th>\n",
       "      <td>2021.389771</td>\n",
       "      <td>2450.000000</td>\n",
       "      <td>-428.610229</td>\n",
       "    </tr>\n",
       "    <tr>\n",
       "      <th>9</th>\n",
       "      <td>316.979004</td>\n",
       "      <td>766.250000</td>\n",
       "      <td>-449.270996</td>\n",
       "    </tr>\n",
       "  </tbody>\n",
       "</table>\n",
       "</div>"
      ],
      "text/plain": [
       "          2025         2020         ROI\n",
       "0   291.748047   750.000000 -458.251953\n",
       "1   329.188568   777.500000 -448.311432\n",
       "2   500.913605   395.000000  105.913605\n",
       "3   532.443542   470.000000   62.443542\n",
       "4   508.391022   416.750000   91.641022\n",
       "5   287.694427   281.500000    6.194427\n",
       "6   373.288940   379.000000   -5.711060\n",
       "7   540.490356   509.899994   30.590363\n",
       "8  2021.389771  2450.000000 -428.610229\n",
       "9   316.979004   766.250000 -449.270996"
      ]
     },
     "execution_count": 55,
     "metadata": {},
     "output_type": "execute_result"
    }
   ],
   "source": [
    "roi_df_2020_2025 = pd.DataFrame(obj['medv_2025'], columns=['2025', '2020', 'ROI'])\n",
    "roi_df_2020_2025"
   ]
  },
  {
   "cell_type": "code",
   "execution_count": 56,
   "metadata": {},
   "outputs": [
    {
     "data": {
      "image/png": "[encoded data removed]",
      "text/plain": [
       "<Figure size 432x288 with 1 Axes>"
      ]
     },
     "metadata": {
      "needs_background": "light"
     },
     "output_type": "display_data"
    }
   ],
   "source": [
    "X_axis = np.arange(len(roi_df_2020_2025))\n",
    "  \n",
    "plt.bar(X_axis - 0.1, roi_df_2020_2025['2020'], 0.4, label = '2020($1000)')\n",
    "plt.bar(X_axis + 0.1, roi_df_2020_2025['2025'], 0.4, label = '2025($1000)')\n",
    "plt.plot(X_axis + 0.1 + 0.1, roi_df_2020_2025['ROI'], 0.4, label = 'ROI ($)')\n",
    "  \n",
    "plt.xticks(X_axis, [f'{i}' for i in range(len(roi_df_2020_2025))])\n",
    "plt.xlabel(\"Data\")\n",
    "plt.ylabel(\"MEDV\")\n",
    "plt.title(\"ROI Prediction from 2020 to 2025\")\n",
    "plt.legend(loc='upper center', bbox_to_anchor=(0.5, -0.2),\n",
    "          fancybox=True, shadow=True, ncol=5)\n",
    "plt.tight_layout()\n",
    "plt.savefig('./figure/ROI_2020_2025.pdf', dpi=300)\n",
    "plt.show()"
   ]
  },
  {
   "cell_type": "code",
   "execution_count": null,
   "metadata": {},
   "outputs": [],
   "source": []
  }
 ],
 "metadata": {
  "kernelspec": {
   "display_name": "Python 3",
   "language": "python",
   "name": "python3"
  },
  "language_info": {
   "codemirror_mode": {
    "name": "ipython",
    "version": 3
   },
   "file_extension": ".py",
   "mimetype": "text/x-python",
   "name": "python",
   "nbconvert_exporter": "python",
   "pygments_lexer": "ipython3",
   "version": "3.7.6"
  }
 },
 "nbformat": 4,
 "nbformat_minor": 4
}
