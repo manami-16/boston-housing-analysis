{
 "cells": [
  {
   "cell_type": "code",
   "execution_count": 1,
   "metadata": {},
   "outputs": [],
   "source": [
    "import pandas as pd\n",
    "import numpy as np\n",
    "from src.data_loader import *\n",
    "from sklearn.linear_model import LinearRegression\n",
    "from sklearn.preprocessing import PolynomialFeatures\n",
    "from sklearn.metrics import mean_squared_error, r2_score\n",
    "from sklearn.model_selection import LeaveOneOut, cross_val_score, KFold"
   ]
  },
  {
   "cell_type": "code",
   "execution_count": 2,
   "metadata": {},
   "outputs": [],
   "source": [
    "data = split_dataset()"
   ]
  },
  {
   "cell_type": "code",
   "execution_count": 3,
   "metadata": {},
   "outputs": [
    {
     "data": {
      "text/plain": [
       "dict_keys(['X_train', 'y_train', 'X_val', 'y_val', 'X_test', 'y_test'])"
      ]
     },
     "execution_count": 3,
     "metadata": {},
     "output_type": "execute_result"
    }
   ],
   "source": [
    "data.keys()"
   ]
  },
  {
   "cell_type": "code",
   "execution_count": 4,
   "metadata": {},
   "outputs": [],
   "source": [
    "X_train = data['X_train']\n",
    "y_train = data['y_train']\n",
    "X_val = data['X_val']\n",
    "y_val = data['y_val']\n",
    "X_test = data['X_test']\n",
    "y_test = data['y_test']"
   ]
  },
  {
   "cell_type": "code",
   "execution_count": 5,
   "metadata": {},
   "outputs": [
    {
     "name": "stdout",
     "output_type": "stream",
     "text": [
      "The MSE of polynomial regression with degree 1 is: MSE: 81095.4834, R2: -0.0695\n",
      "The MSE of polynomial regression with degree 2 is: MSE: 117725.0759, R2: -0.0118\n",
      "The MSE of polynomial regression with degree 3 is: MSE: 821672692.0213, R2: -4888.8439\n",
      "The MSE of polynomial regression with degree 4 is: MSE: 704892.1101, R2: -3.8128\n"
     ]
    }
   ],
   "source": [
    "for i in range(1, 5):\n",
    "    poly = PolynomialFeatures(degree=i, include_bias=False)\n",
    "    X_poly = poly.fit_transform(X_train)\n",
    "\n",
    "    mse_scores = cross_val_score(LinearRegression(), X_poly, y_train, scoring='neg_mean_squared_error')\n",
    "    r2_scores = cross_val_score(LinearRegression(), X_poly, y_train, scoring='r2')\n",
    "\n",
    "    mse = -mse_scores.mean()\n",
    "    r2 = r2_scores.mean()\n",
    "\n",
    "    print(f\"The MSE of polynomial regression with degree {i} is: MSE: {mse:.4f}, R2: {r2:.4f}\")\n"
   ]
  }
 ],
 "metadata": {
  "kernelspec": {
   "display_name": "Python 3",
   "language": "python",
   "name": "python3"
  },
  "language_info": {
   "codemirror_mode": {
    "name": "ipython",
    "version": 3
   },
   "file_extension": ".py",
   "mimetype": "text/x-python",
   "name": "python",
   "nbconvert_exporter": "python",
   "pygments_lexer": "ipython3",
   "version": "3.8.5"
  }
 },
 "nbformat": 4,
 "nbformat_minor": 4
}
