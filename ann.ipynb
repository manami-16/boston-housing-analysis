{
 "cells": [
  {
   "cell_type": "code",
   "execution_count": 1,
   "metadata": {},
   "outputs": [],
   "source": [
    "import torch\n",
    "import torch.nn as nn\n",
    "import numpy as np\n",
    "import pandas as pd\n",
    "from sklearn.model_selection import train_test_split\n",
    "from torch.utils.data import ConcatDataset, DataLoader, Sampler, Dataset\n",
    "from src.data_loader import *\n",
    "import torch.nn.functional as F\n",
    "import torch.optim as optim\n",
    "import matplotlib.pyplot as plt\n",
    "import random"
   ]
  },
  {
   "cell_type": "code",
   "execution_count": 2,
   "metadata": {},
   "outputs": [],
   "source": [
    "plt.rcParams.update({'font.family': 'cmr10',\n",
    "                     'font.size': 12,\n",
    "                     'axes.unicode_minus': False,\n",
    "                     'axes.labelsize': 12,\n",
    "                     'axes.labelsize': 12,\n",
    "                     'figure.figsize': (4, 4),\n",
    "                     'figure.dpi': 160,\n",
    "                     'mathtext.fontset': 'cm',\n",
    "                     'mathtext.rm': 'serif',\n",
    "                     'xtick.direction': 'in',\n",
    "                     'ytick.direction': 'in',\n",
    "                     'xtick.top': True,\n",
    "                     'ytick.right': True\n",
    "                     })"
   ]
  },
  {
   "cell_type": "markdown",
   "metadata": {},
   "source": [
    "## 1. Set up dataset and dataloader"
   ]
  },
  {
   "cell_type": "code",
   "execution_count": 3,
   "metadata": {},
   "outputs": [],
   "source": [
    "f_path = 'data/selected_statslib.csv'\n",
    "statslib_df = pd.read_csv(f_path)\n",
    "statslib_df.drop(columns='Unnamed: 0', axis=1, inplace=True)\n",
    "\n",
    "f_path = 'data/selected_GBREB.csv'\n",
    "GBREB_df = pd.read_csv(f_path)\n",
    "GBREB_df.drop(columns='Unnamed: 0', axis=1, inplace=True)"
   ]
  },
  {
   "cell_type": "code",
   "execution_count": 4,
   "metadata": {},
   "outputs": [
    {
     "data": {
      "text/plain": [
       "(506, 214)"
      ]
     },
     "execution_count": 4,
     "metadata": {},
     "output_type": "execute_result"
    }
   ],
   "source": [
    "len(statslib_df), len(GBREB_df)"
   ]
  },
  {
   "cell_type": "code",
   "execution_count": 5,
   "metadata": {},
   "outputs": [
    {
     "data": {
      "text/html": [
       "<div>\n",
       "<style scoped>\n",
       "    .dataframe tbody tr th:only-of-type {\n",
       "        vertical-align: middle;\n",
       "    }\n",
       "\n",
       "    .dataframe tbody tr th {\n",
       "        vertical-align: top;\n",
       "    }\n",
       "\n",
       "    .dataframe thead th {\n",
       "        text-align: right;\n",
       "    }\n",
       "</style>\n",
       "<table border=\"1\" class=\"dataframe\">\n",
       "  <thead>\n",
       "    <tr style=\"text-align: right;\">\n",
       "      <th></th>\n",
       "      <th>RM</th>\n",
       "      <th>PTRATIO</th>\n",
       "      <th>LSTAT</th>\n",
       "      <th>MEDV</th>\n",
       "      <th>year</th>\n",
       "      <th>Units Sold</th>\n",
       "      <th>Active Listings</th>\n",
       "      <th>Months Supply of Inventory</th>\n",
       "      <th>New Listings</th>\n",
       "      <th>Pending Sales</th>\n",
       "      <th>Days to Off Market</th>\n",
       "      <th>Sold to Original Price Ratio</th>\n",
       "      <th>Price per Square Foot</th>\n",
       "      <th>month</th>\n",
       "    </tr>\n",
       "  </thead>\n",
       "  <tbody>\n",
       "    <tr>\n",
       "      <th>0</th>\n",
       "      <td>6.575</td>\n",
       "      <td>15.3</td>\n",
       "      <td>4.98</td>\n",
       "      <td>24.0</td>\n",
       "      <td>1993</td>\n",
       "      <td>0.0</td>\n",
       "      <td>0.0</td>\n",
       "      <td>0.0</td>\n",
       "      <td>0.0</td>\n",
       "      <td>0.0</td>\n",
       "      <td>0.0</td>\n",
       "      <td>0.0</td>\n",
       "      <td>0.0</td>\n",
       "      <td>0.0</td>\n",
       "    </tr>\n",
       "    <tr>\n",
       "      <th>1</th>\n",
       "      <td>6.421</td>\n",
       "      <td>17.8</td>\n",
       "      <td>9.14</td>\n",
       "      <td>21.6</td>\n",
       "      <td>1993</td>\n",
       "      <td>0.0</td>\n",
       "      <td>0.0</td>\n",
       "      <td>0.0</td>\n",
       "      <td>0.0</td>\n",
       "      <td>0.0</td>\n",
       "      <td>0.0</td>\n",
       "      <td>0.0</td>\n",
       "      <td>0.0</td>\n",
       "      <td>0.0</td>\n",
       "    </tr>\n",
       "    <tr>\n",
       "      <th>2</th>\n",
       "      <td>7.185</td>\n",
       "      <td>17.8</td>\n",
       "      <td>4.03</td>\n",
       "      <td>34.7</td>\n",
       "      <td>1993</td>\n",
       "      <td>0.0</td>\n",
       "      <td>0.0</td>\n",
       "      <td>0.0</td>\n",
       "      <td>0.0</td>\n",
       "      <td>0.0</td>\n",
       "      <td>0.0</td>\n",
       "      <td>0.0</td>\n",
       "      <td>0.0</td>\n",
       "      <td>0.0</td>\n",
       "    </tr>\n",
       "    <tr>\n",
       "      <th>3</th>\n",
       "      <td>6.998</td>\n",
       "      <td>18.7</td>\n",
       "      <td>2.94</td>\n",
       "      <td>33.4</td>\n",
       "      <td>1993</td>\n",
       "      <td>0.0</td>\n",
       "      <td>0.0</td>\n",
       "      <td>0.0</td>\n",
       "      <td>0.0</td>\n",
       "      <td>0.0</td>\n",
       "      <td>0.0</td>\n",
       "      <td>0.0</td>\n",
       "      <td>0.0</td>\n",
       "      <td>0.0</td>\n",
       "    </tr>\n",
       "    <tr>\n",
       "      <th>4</th>\n",
       "      <td>7.147</td>\n",
       "      <td>18.7</td>\n",
       "      <td>5.33</td>\n",
       "      <td>36.2</td>\n",
       "      <td>1993</td>\n",
       "      <td>0.0</td>\n",
       "      <td>0.0</td>\n",
       "      <td>0.0</td>\n",
       "      <td>0.0</td>\n",
       "      <td>0.0</td>\n",
       "      <td>0.0</td>\n",
       "      <td>0.0</td>\n",
       "      <td>0.0</td>\n",
       "      <td>0.0</td>\n",
       "    </tr>\n",
       "  </tbody>\n",
       "</table>\n",
       "</div>"
      ],
      "text/plain": [
       "      RM  PTRATIO  LSTAT  MEDV  year  Units Sold  Active Listings  \\\n",
       "0  6.575     15.3   4.98  24.0  1993         0.0              0.0   \n",
       "1  6.421     17.8   9.14  21.6  1993         0.0              0.0   \n",
       "2  7.185     17.8   4.03  34.7  1993         0.0              0.0   \n",
       "3  6.998     18.7   2.94  33.4  1993         0.0              0.0   \n",
       "4  7.147     18.7   5.33  36.2  1993         0.0              0.0   \n",
       "\n",
       "   Months Supply of Inventory  New Listings  Pending Sales  \\\n",
       "0                         0.0           0.0            0.0   \n",
       "1                         0.0           0.0            0.0   \n",
       "2                         0.0           0.0            0.0   \n",
       "3                         0.0           0.0            0.0   \n",
       "4                         0.0           0.0            0.0   \n",
       "\n",
       "   Days to Off Market  Sold to Original Price Ratio  Price per Square Foot  \\\n",
       "0                 0.0                           0.0                    0.0   \n",
       "1                 0.0                           0.0                    0.0   \n",
       "2                 0.0                           0.0                    0.0   \n",
       "3                 0.0                           0.0                    0.0   \n",
       "4                 0.0                           0.0                    0.0   \n",
       "\n",
       "   month  \n",
       "0    0.0  \n",
       "1    0.0  \n",
       "2    0.0  \n",
       "3    0.0  \n",
       "4    0.0  "
      ]
     },
     "execution_count": 5,
     "metadata": {},
     "output_type": "execute_result"
    }
   ],
   "source": [
    "total = pd.concat([statslib_df, GBREB_df], axis=0)\n",
    "total.fillna(0, inplace=True)\n",
    "# total.fillna(0, inplace=True)\n",
    "total.head()"
   ]
  },
  {
   "cell_type": "code",
   "execution_count": 6,
   "metadata": {},
   "outputs": [
    {
     "data": {
      "text/plain": [
       "['RM',\n",
       " 'PTRATIO',\n",
       " 'LSTAT',\n",
       " 'year',\n",
       " 'Units Sold',\n",
       " 'Active Listings',\n",
       " 'Months Supply of Inventory',\n",
       " 'New Listings',\n",
       " 'Pending Sales',\n",
       " 'Days to Off Market',\n",
       " 'Sold to Original Price Ratio',\n",
       " 'Price per Square Foot',\n",
       " 'month']"
      ]
     },
     "execution_count": 6,
     "metadata": {},
     "output_type": "execute_result"
    }
   ],
   "source": [
    "## list of features to feed\n",
    "feature_list = list(total.columns)\n",
    "feature_list.remove('MEDV')\n",
    "feature_list"
   ]
  },
  {
   "cell_type": "code",
   "execution_count": 7,
   "metadata": {},
   "outputs": [],
   "source": [
    "gbreb_train_size = 0.4\n",
    "gbreb_val_size = 0.5\n",
    "gbreb_test_size = 0.5\n",
    "\n",
    "X_gbreb_train, X_gbreb, y_gbreb_train, y_gbreb = train_test_split(total[total['year'] != 1993][feature_list], \n",
    "                                                                  total[total['year']!=1993]['MEDV'],\n",
    "                                                                  train_size=gbreb_train_size, \n",
    "                                                                 shuffle=True)\n",
    "X_gbreb_val, X_gbreb_test, y_gbreb_val, y_gbreb_test = train_test_split(X_gbreb, \n",
    "                                                                        y_gbreb, \n",
    "                                                                        train_size=gbreb_val_size, \n",
    "                                                                        shuffle=True)"
   ]
  },
  {
   "cell_type": "code",
   "execution_count": 9,
   "metadata": {},
   "outputs": [
    {
     "data": {
      "text/plain": [
       "0        24.0\n",
       "1        21.6\n",
       "2        34.7\n",
       "3        33.4\n",
       "4        36.2\n",
       "        ...  \n",
       "586     700.0\n",
       "587     642.5\n",
       "588     615.0\n",
       "589    2310.0\n",
       "590     790.0\n",
       "Name: MEDV, Length: 591, dtype: float64"
      ]
     },
     "execution_count": 9,
     "metadata": {},
     "output_type": "execute_result"
    }
   ],
   "source": [
    "X_train_set = pd.concat([total[total['year'] == 1993][feature_list], X_gbreb_train], axis=0)\n",
    "y_train_set = pd.concat([total[total['year'] == 1993]['MEDV'], y_gbreb_train], axis=0)\n",
    "X_val_set, y_val_set = X_gbreb_val, y_gbreb_val\n",
    "X_test_set, y_test_set = X_gbreb_test, y_gbreb_test\n",
    "\n",
    "X_train_set.reset_index(inplace=True, drop=True)\n",
    "y_train_set.reset_index(inplace=True, drop=True)\n",
    "X_val_set.reset_index(inplace=True, drop=True)\n",
    "y_val_set.reset_index(inplace=True, drop=True)\n",
    "X_test_set.reset_index(inplace=True, drop=True)\n",
    "y_test_set.reset_index(inplace=True, drop=True)\n",
    "y_train_set"
   ]
  },
  {
   "cell_type": "code",
   "execution_count": 10,
   "metadata": {},
   "outputs": [],
   "source": [
    "def convert_tensor(x, y):\n",
    "    x = x.to_numpy()\n",
    "    y = y.to_numpy()\n",
    "    x = torch.tensor(x, dtype=torch.float32)\n",
    "    y = torch.tensor(y, dtype=torch.float32)\n",
    "    return x, y"
   ]
  },
  {
   "cell_type": "code",
   "execution_count": 11,
   "metadata": {},
   "outputs": [],
   "source": [
    "X_train, y_train = convert_tensor(X_train_set, y_train_set)\n",
    "X_val, y_val = convert_tensor(X_val_set, y_val_set)\n",
    "X_test, y_test = convert_tensor(X_test_set, y_test_set)"
   ]
  },
  {
   "cell_type": "code",
   "execution_count": 12,
   "metadata": {},
   "outputs": [
    {
     "data": {
      "text/plain": [
       "(torch.Size([591, 13]), torch.Size([591]))"
      ]
     },
     "execution_count": 12,
     "metadata": {},
     "output_type": "execute_result"
    }
   ],
   "source": [
    "X_train.shape, y_train.shape"
   ]
  },
  {
   "cell_type": "code",
   "execution_count": 13,
   "metadata": {},
   "outputs": [],
   "source": [
    "def create_dataloader(x, y, batch_size=10):\n",
    "    list_data = []\n",
    "    for i in range(len(x)):\n",
    "        list_data.append([x[i], y[i]])\n",
    "        \n",
    "    dataloader = DataLoader(list_data, batch_size, shuffle=True, drop_last=True)\n",
    "    return dataloader"
   ]
  },
  {
   "cell_type": "code",
   "execution_count": 14,
   "metadata": {},
   "outputs": [],
   "source": [
    "train_loader = create_dataloader(X_train, y_train)\n",
    "valid_loader = create_dataloader(X_val, y_val)\n",
    "test_loader = create_dataloader(X_test, y_test)"
   ]
  },
  {
   "cell_type": "code",
   "execution_count": 15,
   "metadata": {},
   "outputs": [
    {
     "name": "stdout",
     "output_type": "stream",
     "text": [
      "0 torch.Size([10, 13]) torch.Size([10])\n"
     ]
    }
   ],
   "source": [
    "for idx, batch in enumerate(train_loader):\n",
    "    print(idx, batch[0].shape, batch[1].shape)\n",
    "    break"
   ]
  },
  {
   "cell_type": "code",
   "execution_count": 16,
   "metadata": {},
   "outputs": [],
   "source": [
    "class ANN(nn.Module):\n",
    "    def __init__(self, input_dim, hidden_dim=32**2, output_dim=1, num_layers=3):\n",
    "        super(ANN, self).__init__()\n",
    "        self.flatten = nn.Flatten()\n",
    "            \n",
    "        self.layer1 = nn.Linear(in_features=input_dim, out_features=hidden_dim)\n",
    "        self.relu1 = nn.ReLU()\n",
    "        self.layer2 = nn.Linear(in_features=hidden_dim, out_features=hidden_dim)\n",
    "        self.relu2 = nn.ReLU()\n",
    "        self.layer3 = nn.Linear(in_features=hidden_dim, out_features=hidden_dim)\n",
    "        self.relu3 = nn.ReLU()\n",
    "        \n",
    "        self.final_layer = nn.Linear(hidden_dim, 1)\n",
    "        \n",
    "    def forward(self, x):\n",
    "        x = self.flatten(x)\n",
    "        x = self.layer1(x)\n",
    "        x = self.relu1(x)\n",
    "        \n",
    "        x = self.layer2(x)\n",
    "        x = self.relu2(x)\n",
    "        \n",
    "        x = self.layer3(x)\n",
    "        x = self.relu3(x)\n",
    "        \n",
    "        x = self.final_layer(x)\n",
    "        return x    "
   ]
  },
  {
   "cell_type": "code",
   "execution_count": 17,
   "metadata": {},
   "outputs": [
    {
     "name": "stdout",
     "output_type": "stream",
     "text": [
      "ANN(\n",
      "  (flatten): Flatten(start_dim=1, end_dim=-1)\n",
      "  (layer1): Linear(in_features=13, out_features=128, bias=True)\n",
      "  (relu1): ReLU()\n",
      "  (layer2): Linear(in_features=128, out_features=128, bias=True)\n",
      "  (relu2): ReLU()\n",
      "  (layer3): Linear(in_features=128, out_features=128, bias=True)\n",
      "  (relu3): ReLU()\n",
      "  (final_layer): Linear(in_features=128, out_features=1, bias=True)\n",
      ")\n"
     ]
    }
   ],
   "source": [
    "model = ANN(input_dim=13, hidden_dim=128, output_dim=1, num_layers=3)\n",
    "print(model)\n",
    "params = {'epoch': 500,\n",
    "         'lr': 1.5e-5,\n",
    "         'loss_function':F.l1_loss}\n",
    "\n",
    "# params = {'epoch': 100,\n",
    "#          'lr': 1.5e-5,\n",
    "#          'loss_function':F.mse_loss}\n",
    "\n",
    "#'lossfunction':F.mse_loss#\n",
    "optimizer = optim.Adam(model.parameters(), lr=params['lr'])\n",
    "lr_scheduler = optim.lr_scheduler.MultiStepLR(optimizer, milestones=[10,20], gamma=0.5)"
   ]
  },
  {
   "cell_type": "code",
   "execution_count": 18,
   "metadata": {},
   "outputs": [
    {
     "name": "stdout",
     "output_type": "stream",
     "text": [
      "\n",
      ">>> Epoch 25 <<<\n",
      "Epoch: 25, Train loss: 76.7529\n",
      "Epoch: 25, Validation loss: 411.3825\n",
      "\n",
      ">>> Epoch 50 <<<\n",
      "Epoch: 50, Train loss: 47.2339\n",
      "Epoch: 50, Validation loss: 224.9016\n",
      "\n",
      ">>> Epoch 75 <<<\n",
      "Epoch: 75, Train loss: 44.8814\n",
      "Epoch: 75, Validation loss: 214.2606\n",
      "\n",
      ">>> Epoch 100 <<<\n",
      "Epoch: 100, Train loss: 44.0461\n",
      "Epoch: 100, Validation loss: 236.0465\n",
      "\n",
      ">>> Epoch 125 <<<\n",
      "Epoch: 125, Train loss: 41.0003\n",
      "Epoch: 125, Validation loss: 212.9557\n",
      "\n",
      ">>> Epoch 150 <<<\n",
      "Epoch: 150, Train loss: 35.6523\n",
      "Epoch: 150, Validation loss: 176.8626\n",
      "\n",
      ">>> Epoch 175 <<<\n",
      "Epoch: 175, Train loss: 28.5783\n",
      "Epoch: 175, Validation loss: 154.4450\n",
      "\n",
      ">>> Epoch 200 <<<\n",
      "Epoch: 200, Train loss: 26.6190\n",
      "Epoch: 200, Validation loss: 190.6050\n",
      "\n",
      ">>> Epoch 225 <<<\n",
      "Epoch: 225, Train loss: 29.3178\n",
      "Epoch: 225, Validation loss: 191.0613\n",
      "\n",
      ">>> Epoch 250 <<<\n",
      "Epoch: 250, Train loss: 27.6024\n",
      "Epoch: 250, Validation loss: 208.6379\n",
      "\n",
      ">>> Epoch 275 <<<\n",
      "Epoch: 275, Train loss: 24.4639\n",
      "Epoch: 275, Validation loss: 175.3833\n",
      "\n",
      ">>> Epoch 300 <<<\n",
      "Epoch: 300, Train loss: 21.5216\n",
      "Epoch: 300, Validation loss: 162.6576\n",
      "\n",
      ">>> Epoch 325 <<<\n",
      "Epoch: 325, Train loss: 29.9780\n",
      "Epoch: 325, Validation loss: 186.7051\n",
      "\n",
      ">>> Epoch 350 <<<\n",
      "Epoch: 350, Train loss: 36.2683\n",
      "Epoch: 350, Validation loss: 260.1945\n",
      "\n",
      ">>> Epoch 375 <<<\n",
      "Epoch: 375, Train loss: 24.7410\n",
      "Epoch: 375, Validation loss: 156.0718\n",
      "\n",
      ">>> Epoch 400 <<<\n",
      "Epoch: 400, Train loss: 27.9792\n",
      "Epoch: 400, Validation loss: 154.7727\n",
      "\n",
      ">>> Epoch 425 <<<\n",
      "Epoch: 425, Train loss: 23.7851\n",
      "Epoch: 425, Validation loss: 171.2295\n",
      "\n",
      ">>> Epoch 450 <<<\n",
      "Epoch: 450, Train loss: 22.1561\n",
      "Epoch: 450, Validation loss: 202.3707\n",
      "\n",
      ">>> Epoch 475 <<<\n",
      "Epoch: 475, Train loss: 23.7303\n",
      "Epoch: 475, Validation loss: 183.5195\n",
      "\n",
      ">>> Epoch 500 <<<\n",
      "Epoch: 500, Train loss: 22.2015\n",
      "Epoch: 500, Validation loss: 190.3229\n"
     ]
    }
   ],
   "source": [
    "train_loss = []\n",
    "train_val_loss = []\n",
    "val_loss = []\n",
    "print_step = 25\n",
    "\n",
    "for epoch in range(params['epoch']):\n",
    "    epoch += 1\n",
    "    if epoch % print_step == 0:\n",
    "        print(f'\\n>>> Epoch {epoch} <<<')\n",
    "    \n",
    "    ## training\n",
    "    model.train()\n",
    "    running_loss, running_acc = 0, 0\n",
    "    for i, data in enumerate(train_loader):\n",
    "        X_data = data[0]\n",
    "        y_target = data[1]\n",
    "        y_pred = model(X_data).reshape(-1)\n",
    "\n",
    "        loss = params[\"loss_function\"](y_pred, y_target)\n",
    "        loss.backward()\n",
    "        optimizer.step()\n",
    "        \n",
    "        running_loss += loss.item()        \n",
    "#         if i % print_step == 0:\n",
    "#             s = '%d: Train loss: %.4f'%(i, loss.item())\n",
    "#             print(s)\n",
    "            \n",
    "    train_loss.append(running_loss / len(train_loader))\n",
    "    if epoch % print_step == 0:\n",
    "        print('Epoch: {}, Train loss: {:.4f}'.format(epoch, train_loss[epoch-1]))\n",
    "    \n",
    "    ## validation\n",
    "    model.eval()\n",
    "    loss_ = 0.\n",
    "    for i, data in enumerate(valid_loader):\n",
    "        X, y_true = data[0], data[1]\n",
    "        y = model(X).reshape(-1)\n",
    "        loss += params[\"loss_function\"](y_true, y)\n",
    "    \n",
    "    val_loss.append(loss.item() / len(valid_loader))\n",
    "    if epoch % print_step == 0:\n",
    "        print('Epoch: {}, Validation loss: {:.4f}'.format(epoch, val_loss[epoch-1]))\n",
    "    "
   ]
  },
  {
   "cell_type": "code",
   "execution_count": 19,
   "metadata": {},
   "outputs": [
    {
     "data": {
      "image/png": "[encoded data removed]",
      "text/plain": [
       "<Figure size 960x480 with 2 Axes>"
      ]
     },
     "metadata": {
      "needs_background": "light"
     },
     "output_type": "display_data"
    }
   ],
   "source": [
    "plt.figure(figsize=(6, 3))\n",
    "\n",
    "plt.subplot(1, 2, 1)\n",
    "plt.plot(train_loss, label='train')\n",
    "plt.xlabel('epoch')\n",
    "plt.ylabel('loss')\n",
    "plt.title(f'training loss')\n",
    "plt.legend()\n",
    "          \n",
    "plt.subplot(1, 2, 2)\n",
    "plt.plot(val_loss, label='val')\n",
    "plt.xlabel('epoch')\n",
    "plt.ylabel('loss')\n",
    "plt.title('validation loss')\n",
    "plt.legend()\n",
    "          \n",
    "plt.suptitle('L1 loss function, {} epochs'.format(params['epoch']), fontsize=16)\n",
    "plt.tight_layout()\n",
    "plt.show()"
   ]
  },
  {
   "cell_type": "code",
   "execution_count": null,
   "metadata": {},
   "outputs": [],
   "source": []
  }
 ],
 "metadata": {
  "kernelspec": {
   "display_name": "Python 3",
   "language": "python",
   "name": "python3"
  },
  "language_info": {
   "codemirror_mode": {
    "name": "ipython",
    "version": 3
   },
   "file_extension": ".py",
   "mimetype": "text/x-python",
   "name": "python",
   "nbconvert_exporter": "python",
   "pygments_lexer": "ipython3",
   "version": "3.7.6"
  }
 },
 "nbformat": 4,
 "nbformat_minor": 4
}
