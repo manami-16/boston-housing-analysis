{
 "cells": [
  {
   "cell_type": "code",
   "execution_count": 1,
   "metadata": {},
   "outputs": [],
   "source": [
    "import torch\n",
    "import torch.nn as nn\n",
    "import numpy as np\n",
    "import pandas as pd\n",
    "from sklearn.model_selection import train_test_split\n",
    "from torch.utils.data import ConcatDataset, DataLoader, Sampler, Dataset\n",
    "from src.data_loader import *\n",
    "import torch.nn.functional as F\n",
    "import torch.optim as optim\n",
    "import matplotlib.pyplot as plt\n",
    "import random\n",
    "import os\n",
    "from src.ann_model import ANN, create_dataloader, save_checkpoint, convert_tensor"
   ]
  },
  {
   "cell_type": "code",
   "execution_count": 2,
   "metadata": {},
   "outputs": [],
   "source": [
    "plt.rcParams.update({'font.family': 'cmr10',\n",
    "                     'font.size': 12,\n",
    "                     'axes.unicode_minus': False,\n",
    "                     'axes.labelsize': 12,\n",
    "                     'axes.labelsize': 12,\n",
    "                     'figure.figsize': (4, 4),\n",
    "                     'figure.dpi': 160,\n",
    "                     'mathtext.fontset': 'cm',\n",
    "                     'mathtext.rm': 'serif',\n",
    "                     'xtick.direction': 'in',\n",
    "                     'ytick.direction': 'in',\n",
    "                     'xtick.top': True,\n",
    "                     'ytick.right': True\n",
    "                     })"
   ]
  },
  {
   "cell_type": "markdown",
   "metadata": {},
   "source": [
    "## 1. Set up dataset and dataloader"
   ]
  },
  {
   "cell_type": "code",
   "execution_count": 2,
   "metadata": {},
   "outputs": [],
   "source": [
    "f_path = 'data/selected_statslib.csv'\n",
    "statslib_df = pd.read_csv(f_path)\n",
    "statslib_df.drop(columns='Unnamed: 0', axis=1, inplace=True)\n",
    "\n",
    "f_path = 'data/selected_GBREB.csv'\n",
    "GBREB_df = pd.read_csv(f_path)\n",
    "GBREB_df.drop(columns='Unnamed: 0', axis=1, inplace=True)"
   ]
  },
  {
   "cell_type": "code",
   "execution_count": 3,
   "metadata": {},
   "outputs": [
    {
     "data": {
      "text/plain": [
       "(506, 214)"
      ]
     },
     "execution_count": 3,
     "metadata": {},
     "output_type": "execute_result"
    }
   ],
   "source": [
    "len(statslib_df), len(GBREB_df)"
   ]
  },
  {
   "cell_type": "code",
   "execution_count": 4,
   "metadata": {},
   "outputs": [
    {
     "data": {
      "text/html": [
       "<div>\n",
       "<style scoped>\n",
       "    .dataframe tbody tr th:only-of-type {\n",
       "        vertical-align: middle;\n",
       "    }\n",
       "\n",
       "    .dataframe tbody tr th {\n",
       "        vertical-align: top;\n",
       "    }\n",
       "\n",
       "    .dataframe thead th {\n",
       "        text-align: right;\n",
       "    }\n",
       "</style>\n",
       "<table border=\"1\" class=\"dataframe\">\n",
       "  <thead>\n",
       "    <tr style=\"text-align: right;\">\n",
       "      <th></th>\n",
       "      <th>RM</th>\n",
       "      <th>PTRATIO</th>\n",
       "      <th>LSTAT</th>\n",
       "      <th>MEDV</th>\n",
       "      <th>year</th>\n",
       "      <th>Units Sold</th>\n",
       "      <th>Active Listings</th>\n",
       "      <th>Months Supply of Inventory</th>\n",
       "      <th>New Listings</th>\n",
       "      <th>Pending Sales</th>\n",
       "      <th>Days to Off Market</th>\n",
       "      <th>Sold to Original Price Ratio</th>\n",
       "      <th>Price per Square Foot</th>\n",
       "      <th>month</th>\n",
       "    </tr>\n",
       "  </thead>\n",
       "  <tbody>\n",
       "    <tr>\n",
       "      <th>0</th>\n",
       "      <td>6.575</td>\n",
       "      <td>15.3</td>\n",
       "      <td>4.98</td>\n",
       "      <td>24.0</td>\n",
       "      <td>1993</td>\n",
       "      <td>0.0</td>\n",
       "      <td>0.0</td>\n",
       "      <td>0.0</td>\n",
       "      <td>0.0</td>\n",
       "      <td>0.0</td>\n",
       "      <td>0.0</td>\n",
       "      <td>0.0</td>\n",
       "      <td>0.0</td>\n",
       "      <td>0.0</td>\n",
       "    </tr>\n",
       "    <tr>\n",
       "      <th>1</th>\n",
       "      <td>6.421</td>\n",
       "      <td>17.8</td>\n",
       "      <td>9.14</td>\n",
       "      <td>21.6</td>\n",
       "      <td>1993</td>\n",
       "      <td>0.0</td>\n",
       "      <td>0.0</td>\n",
       "      <td>0.0</td>\n",
       "      <td>0.0</td>\n",
       "      <td>0.0</td>\n",
       "      <td>0.0</td>\n",
       "      <td>0.0</td>\n",
       "      <td>0.0</td>\n",
       "      <td>0.0</td>\n",
       "    </tr>\n",
       "    <tr>\n",
       "      <th>2</th>\n",
       "      <td>7.185</td>\n",
       "      <td>17.8</td>\n",
       "      <td>4.03</td>\n",
       "      <td>34.7</td>\n",
       "      <td>1993</td>\n",
       "      <td>0.0</td>\n",
       "      <td>0.0</td>\n",
       "      <td>0.0</td>\n",
       "      <td>0.0</td>\n",
       "      <td>0.0</td>\n",
       "      <td>0.0</td>\n",
       "      <td>0.0</td>\n",
       "      <td>0.0</td>\n",
       "      <td>0.0</td>\n",
       "    </tr>\n",
       "    <tr>\n",
       "      <th>3</th>\n",
       "      <td>6.998</td>\n",
       "      <td>18.7</td>\n",
       "      <td>2.94</td>\n",
       "      <td>33.4</td>\n",
       "      <td>1993</td>\n",
       "      <td>0.0</td>\n",
       "      <td>0.0</td>\n",
       "      <td>0.0</td>\n",
       "      <td>0.0</td>\n",
       "      <td>0.0</td>\n",
       "      <td>0.0</td>\n",
       "      <td>0.0</td>\n",
       "      <td>0.0</td>\n",
       "      <td>0.0</td>\n",
       "    </tr>\n",
       "    <tr>\n",
       "      <th>4</th>\n",
       "      <td>7.147</td>\n",
       "      <td>18.7</td>\n",
       "      <td>5.33</td>\n",
       "      <td>36.2</td>\n",
       "      <td>1993</td>\n",
       "      <td>0.0</td>\n",
       "      <td>0.0</td>\n",
       "      <td>0.0</td>\n",
       "      <td>0.0</td>\n",
       "      <td>0.0</td>\n",
       "      <td>0.0</td>\n",
       "      <td>0.0</td>\n",
       "      <td>0.0</td>\n",
       "      <td>0.0</td>\n",
       "    </tr>\n",
       "  </tbody>\n",
       "</table>\n",
       "</div>"
      ],
      "text/plain": [
       "      RM  PTRATIO  LSTAT  MEDV  year  Units Sold  Active Listings  \\\n",
       "0  6.575     15.3   4.98  24.0  1993         0.0              0.0   \n",
       "1  6.421     17.8   9.14  21.6  1993         0.0              0.0   \n",
       "2  7.185     17.8   4.03  34.7  1993         0.0              0.0   \n",
       "3  6.998     18.7   2.94  33.4  1993         0.0              0.0   \n",
       "4  7.147     18.7   5.33  36.2  1993         0.0              0.0   \n",
       "\n",
       "   Months Supply of Inventory  New Listings  Pending Sales  \\\n",
       "0                         0.0           0.0            0.0   \n",
       "1                         0.0           0.0            0.0   \n",
       "2                         0.0           0.0            0.0   \n",
       "3                         0.0           0.0            0.0   \n",
       "4                         0.0           0.0            0.0   \n",
       "\n",
       "   Days to Off Market  Sold to Original Price Ratio  Price per Square Foot  \\\n",
       "0                 0.0                           0.0                    0.0   \n",
       "1                 0.0                           0.0                    0.0   \n",
       "2                 0.0                           0.0                    0.0   \n",
       "3                 0.0                           0.0                    0.0   \n",
       "4                 0.0                           0.0                    0.0   \n",
       "\n",
       "   month  \n",
       "0    0.0  \n",
       "1    0.0  \n",
       "2    0.0  \n",
       "3    0.0  \n",
       "4    0.0  "
      ]
     },
     "execution_count": 4,
     "metadata": {},
     "output_type": "execute_result"
    }
   ],
   "source": [
    "total = pd.concat([statslib_df, GBREB_df], axis=0)\n",
    "total.fillna(0, inplace=True)\n",
    "# total.fillna(0, inplace=True)\n",
    "total.head()"
   ]
  },
  {
   "cell_type": "code",
   "execution_count": 5,
   "metadata": {},
   "outputs": [
    {
     "data": {
      "text/plain": [
       "['RM',\n",
       " 'PTRATIO',\n",
       " 'LSTAT',\n",
       " 'year',\n",
       " 'Units Sold',\n",
       " 'Active Listings',\n",
       " 'Months Supply of Inventory',\n",
       " 'New Listings',\n",
       " 'Pending Sales',\n",
       " 'Days to Off Market',\n",
       " 'Sold to Original Price Ratio',\n",
       " 'Price per Square Foot',\n",
       " 'month']"
      ]
     },
     "execution_count": 5,
     "metadata": {},
     "output_type": "execute_result"
    }
   ],
   "source": [
    "## list of features to feed\n",
    "feature_list = list(total.columns)\n",
    "feature_list.remove('MEDV')\n",
    "feature_list"
   ]
  },
  {
   "cell_type": "code",
   "execution_count": 6,
   "metadata": {},
   "outputs": [],
   "source": [
    "gbreb_train_size = 0.4\n",
    "gbreb_val_size = 0.5\n",
    "gbreb_test_size = 0.5\n",
    "\n",
    "X_gbreb_train, X_gbreb, y_gbreb_train, y_gbreb = train_test_split(total[total['year'] != 1993][feature_list], \n",
    "                                                                  total[total['year']!=1993]['MEDV'],\n",
    "                                                                  train_size=gbreb_train_size, \n",
    "                                                                 shuffle=True)\n",
    "X_gbreb_val, X_gbreb_test, y_gbreb_val, y_gbreb_test = train_test_split(X_gbreb, \n",
    "                                                                        y_gbreb, \n",
    "                                                                        train_size=gbreb_val_size, \n",
    "                                                                        shuffle=True)"
   ]
  },
  {
   "cell_type": "code",
   "execution_count": 7,
   "metadata": {},
   "outputs": [
    {
     "data": {
      "text/plain": [
       "0       24.00\n",
       "1       21.60\n",
       "2       34.70\n",
       "3       33.40\n",
       "4       36.20\n",
       "        ...  \n",
       "586      0.93\n",
       "587    972.50\n",
       "588    900.00\n",
       "589    630.00\n",
       "590    615.00\n",
       "Name: MEDV, Length: 591, dtype: float64"
      ]
     },
     "execution_count": 7,
     "metadata": {},
     "output_type": "execute_result"
    }
   ],
   "source": [
    "X_train_set = pd.concat([total[total['year'] == 1993][feature_list], X_gbreb_train], axis=0)\n",
    "y_train_set = pd.concat([total[total['year'] == 1993]['MEDV'], y_gbreb_train], axis=0)\n",
    "X_val_set, y_val_set = X_gbreb_val, y_gbreb_val\n",
    "X_test_set, y_test_set = X_gbreb_test, y_gbreb_test\n",
    "\n",
    "X_train_set.reset_index(inplace=True, drop=True)\n",
    "y_train_set.reset_index(inplace=True, drop=True)\n",
    "X_val_set.reset_index(inplace=True, drop=True)\n",
    "y_val_set.reset_index(inplace=True, drop=True)\n",
    "X_test_set.reset_index(inplace=True, drop=True)\n",
    "y_test_set.reset_index(inplace=True, drop=True)\n",
    "y_train_set"
   ]
  },
  {
   "cell_type": "code",
   "execution_count": 9,
   "metadata": {},
   "outputs": [],
   "source": [
    "X_train, y_train = convert_tensor(X_train_set, y_train_set)\n",
    "X_val, y_val = convert_tensor(X_val_set, y_val_set)\n",
    "X_test, y_test = convert_tensor(X_test_set, y_test_set)"
   ]
  },
  {
   "cell_type": "code",
   "execution_count": 10,
   "metadata": {},
   "outputs": [
    {
     "data": {
      "text/plain": [
       "(torch.Size([591, 13]), torch.Size([591]))"
      ]
     },
     "execution_count": 10,
     "metadata": {},
     "output_type": "execute_result"
    }
   ],
   "source": [
    "X_train.shape, y_train.shape"
   ]
  },
  {
   "cell_type": "code",
   "execution_count": 12,
   "metadata": {},
   "outputs": [],
   "source": [
    "train_loader = create_dataloader(X_train, y_train)\n",
    "valid_loader = create_dataloader(X_val, y_val)\n",
    "test_loader = create_dataloader(X_test, y_test)"
   ]
  },
  {
   "cell_type": "code",
   "execution_count": 13,
   "metadata": {},
   "outputs": [
    {
     "name": "stdout",
     "output_type": "stream",
     "text": [
      "0 torch.Size([10, 13]) torch.Size([10])\n"
     ]
    }
   ],
   "source": [
    "for idx, batch in enumerate(train_loader):\n",
    "    print(idx, batch[0].shape, batch[1].shape)\n",
    "    break"
   ]
  },
  {
   "cell_type": "code",
   "execution_count": 16,
   "metadata": {},
   "outputs": [
    {
     "name": "stdout",
     "output_type": "stream",
     "text": [
      "ANN(\n",
      "  (flatten): Flatten(start_dim=1, end_dim=-1)\n",
      "  (layers): Sequential(\n",
      "    (0): Linear(in_features=13, out_features=169, bias=True)\n",
      "    (1): ReLU()\n",
      "    (2): Linear(in_features=169, out_features=169, bias=True)\n",
      "    (3): ReLU()\n",
      "    (4): Linear(in_features=169, out_features=169, bias=True)\n",
      "    (5): ReLU()\n",
      "    (6): Linear(in_features=169, out_features=169, bias=True)\n",
      "    (7): ReLU()\n",
      "    (8): Linear(in_features=169, out_features=169, bias=True)\n",
      "    (9): ReLU()\n",
      "    (10): Linear(in_features=169, out_features=169, bias=True)\n",
      "    (11): ReLU()\n",
      "    (12): Linear(in_features=169, out_features=169, bias=True)\n",
      "    (13): ReLU()\n",
      "    (14): Linear(in_features=169, out_features=169, bias=True)\n",
      "    (15): ReLU()\n",
      "    (16): Linear(in_features=169, out_features=169, bias=True)\n",
      "    (17): ReLU()\n",
      "    (18): Linear(in_features=169, out_features=169, bias=True)\n",
      "    (19): ReLU()\n",
      "    (20): Linear(in_features=169, out_features=169, bias=True)\n",
      "    (21): ReLU()\n",
      "    (22): Linear(in_features=169, out_features=169, bias=True)\n",
      "    (23): ReLU()\n",
      "    (24): Linear(in_features=169, out_features=169, bias=True)\n",
      "    (25): ReLU()\n",
      "    (26): Linear(in_features=169, out_features=169, bias=True)\n",
      "    (27): ReLU()\n",
      "    (28): Linear(in_features=169, out_features=169, bias=True)\n",
      "    (29): ReLU()\n",
      "    (30): Linear(in_features=169, out_features=169, bias=True)\n",
      "    (31): ReLU()\n",
      "    (32): Linear(in_features=169, out_features=169, bias=True)\n",
      "    (33): ReLU()\n",
      "    (34): Linear(in_features=169, out_features=169, bias=True)\n",
      "    (35): ReLU()\n",
      "    (36): Linear(in_features=169, out_features=169, bias=True)\n",
      "    (37): ReLU()\n",
      "    (38): Linear(in_features=169, out_features=169, bias=True)\n",
      "    (39): ReLU()\n",
      "  )\n",
      "  (final_layer): Linear(in_features=169, out_features=1, bias=True)\n",
      ")\n"
     ]
    }
   ],
   "source": [
    "params = {'num_layers': 20,\n",
    "          'hidden_dim':13**2,\n",
    "          'epoch': 1000,\n",
    "          'lr': 1.5e-5,\n",
    "          'loss_function':F.l1_loss}\n",
    "\n",
    "model = ANN(input_dim=13, hidden_dim=params['hidden_dim'], output_dim=1, num_layers=params['num_layers'])\n",
    "print(model)\n",
    "\n",
    "# params = {'epoch': 100,\n",
    "#          'lr': 1.5e-5,\n",
    "#          'loss_function':F.mse_loss}\n",
    "\n",
    "#'lossfunction':F.mse_loss#\n",
    "optimizer = optim.Adam(model.parameters(), lr=params['lr'])\n",
    "lr_scheduler = optim.lr_scheduler.MultiStepLR(optimizer, milestones=[10,20], gamma=0.5)"
   ]
  },
  {
   "cell_type": "code",
   "execution_count": 18,
   "metadata": {},
   "outputs": [
    {
     "name": "stdout",
     "output_type": "stream",
     "text": [
      "\n",
      ">>> Epoch 100 <<<\n",
      "Epoch: 100, Train loss: 105.5550\n",
      "Epoch: 100, Validation loss: 607.2222\n",
      "model checkpoint saved @ ./saves/ann_20_100.pth\n",
      "\n",
      ">>> Epoch 200 <<<\n",
      "Epoch: 200, Train loss: 43.4474\n",
      "Epoch: 200, Validation loss: 216.1523\n",
      "model checkpoint saved @ ./saves/ann_20_200.pth\n",
      "\n",
      ">>> Epoch 300 <<<\n",
      "Epoch: 300, Train loss: 52.6704\n",
      "Epoch: 300, Validation loss: 292.0015\n",
      "model checkpoint saved @ ./saves/ann_20_300.pth\n",
      "\n",
      ">>> Epoch 400 <<<\n",
      "Epoch: 400, Train loss: 37.9470\n",
      "Epoch: 400, Validation loss: 261.1713\n",
      "model checkpoint saved @ ./saves/ann_20_400.pth\n",
      "\n",
      ">>> Epoch 500 <<<\n",
      "Epoch: 500, Train loss: 37.1039\n",
      "Epoch: 500, Validation loss: 239.9618\n",
      "model checkpoint saved @ ./saves/ann_20_500.pth\n",
      "\n",
      ">>> Epoch 600 <<<\n",
      "Epoch: 600, Train loss: 25.0113\n",
      "Epoch: 600, Validation loss: 147.1919\n",
      "model checkpoint saved @ ./saves/ann_20_600.pth\n",
      "\n",
      ">>> Epoch 700 <<<\n",
      "Epoch: 700, Train loss: 31.8694\n",
      "Epoch: 700, Validation loss: 239.9981\n",
      "model checkpoint saved @ ./saves/ann_20_700.pth\n",
      "\n",
      ">>> Epoch 800 <<<\n",
      "Epoch: 800, Train loss: 22.8219\n",
      "Epoch: 800, Validation loss: 168.3756\n",
      "model checkpoint saved @ ./saves/ann_20_800.pth\n",
      "\n",
      ">>> Epoch 900 <<<\n",
      "Epoch: 900, Train loss: 23.1969\n",
      "Epoch: 900, Validation loss: 186.8161\n",
      "model checkpoint saved @ ./saves/ann_20_900.pth\n",
      "\n",
      ">>> Epoch 1000 <<<\n",
      "Epoch: 1000, Train loss: 24.1928\n",
      "Epoch: 1000, Validation loss: 188.0047\n",
      "model checkpoint saved @ ./saves/ann_20_1000.pth\n"
     ]
    }
   ],
   "source": [
    "train_loss = []\n",
    "train_val_loss = []\n",
    "val_loss = []\n",
    "print_step = 100\n",
    "\n",
    "for epoch in range(params['epoch']):\n",
    "    epoch += 1\n",
    "    if epoch % print_step == 0:\n",
    "        print(f'\\n>>> Epoch {epoch} <<<')\n",
    "    \n",
    "    ## training\n",
    "    model.train()\n",
    "    running_loss, running_acc = 0, 0\n",
    "    for i, data in enumerate(train_loader):\n",
    "        X_data = data[0]\n",
    "        y_target = data[1]\n",
    "        y_pred = model(X_data).reshape(-1)\n",
    "\n",
    "        loss = params[\"loss_function\"](y_pred, y_target)\n",
    "        loss.backward()\n",
    "        optimizer.step()\n",
    "        \n",
    "        running_loss += loss.item()        \n",
    "#         if i % print_step == 0:\n",
    "#             s = '%d: Train loss: %.4f'%(i, loss.item())\n",
    "#             print(s)\n",
    "            \n",
    "    train_loss.append(running_loss / len(train_loader))\n",
    "    if epoch % print_step == 0:\n",
    "        print('Epoch: {}, Train loss: {:.4f}'.format(epoch, train_loss[epoch-1]))\n",
    "    \n",
    "    ## validation\n",
    "    model.eval()\n",
    "    loss_ = 0.\n",
    "    for i, data in enumerate(valid_loader):\n",
    "        X, y_true = data[0], data[1]\n",
    "        y = model(X).reshape(-1)\n",
    "        loss += params[\"loss_function\"](y_true, y)\n",
    "    \n",
    "    val_loss.append(loss.item() / len(valid_loader))\n",
    "    if epoch % print_step == 0:\n",
    "        print('Epoch: {}, Validation loss: {:.4f}'.format(epoch, val_loss[epoch-1]))\n",
    "    \n",
    "    ## save the model\n",
    "    if epoch % print_step == 0:\n",
    "        prefix = 'ann_' + str(params['num_layers']) + '_' + str(epoch)\n",
    "        save_checkpoint(model, epoch, train_loss, val_loss, prefix=prefix)"
   ]
  },
  {
   "cell_type": "code",
   "execution_count": 21,
   "metadata": {},
   "outputs": [
    {
     "data": {
      "image/png": "[encoded data removed]",
      "text/plain": [
       "<Figure size 960x480 with 2 Axes>"
      ]
     },
     "metadata": {
      "needs_background": "light"
     },
     "output_type": "display_data"
    }
   ],
   "source": [
    "plt.figure(figsize=(6, 3))\n",
    "\n",
    "plt.subplot(1, 2, 1)\n",
    "plt.plot(train_loss, label='train')\n",
    "plt.xlabel('epoch')\n",
    "plt.ylabel('loss')\n",
    "plt.title(f'training loss')\n",
    "plt.legend()\n",
    "          \n",
    "plt.subplot(1, 2, 2)\n",
    "plt.plot(val_loss, label='val')\n",
    "plt.xlabel('epoch')\n",
    "plt.ylabel('loss')\n",
    "plt.title('validation loss')\n",
    "plt.legend()\n",
    "          \n",
    "plt.suptitle('L1 loss function, {} epochs'.format(params['epoch']), fontsize=16)\n",
    "plt.tight_layout()\n",
    "plt.savefig('figure/ann_loss_plot.pdf', dpi=300)\n",
    "plt.show()"
   ]
  },
  {
   "cell_type": "markdown",
   "metadata": {},
   "source": [
    "## Model Evaluation"
   ]
  },
  {
   "cell_type": "code",
   "execution_count": 15,
   "metadata": {},
   "outputs": [],
   "source": [
    "test_loader = create_dataloader(X_test, y_test, batch_size=1)"
   ]
  },
  {
   "cell_type": "code",
   "execution_count": 16,
   "metadata": {},
   "outputs": [
    {
     "data": {
      "text/plain": [
       "<All keys matched successfully>"
      ]
     },
     "execution_count": 16,
     "metadata": {},
     "output_type": "execute_result"
    }
   ],
   "source": [
    "params = {'num_layers': 20,\n",
    "          'hidden_dim':13**2,\n",
    "          'epoch': 1000,\n",
    "          'lr': 1.5e-5,\n",
    "          'loss_function':F.l1_loss}\n",
    "\n",
    "model = ANN(input_dim=13, hidden_dim=params['hidden_dim'], output_dim=1, num_layers=params['num_layers'])\n",
    "PATH = './saves/ann_20_1000.pth'\n",
    "saved_model = torch.load(PATH)\n",
    "model.load_state_dict(saved_model['model'])"
   ]
  },
  {
   "cell_type": "code",
   "execution_count": 17,
   "metadata": {},
   "outputs": [],
   "source": [
    "with torch.no_grad():\n",
    "    model.eval()\n",
    "    y_pred = []\n",
    "    y_true = []\n",
    "    year = []\n",
    "    for i, batch in enumerate(test_loader):\n",
    "        output = model(batch[0]).reshape(-1)\n",
    "        y_pred.append(output.detach().numpy())\n",
    "        y_true.append(batch[1].detach().numpy())\n",
    "        year.append(np.array(batch[0][:, 3]))\n",
    "    "
   ]
  },
  {
   "cell_type": "code",
   "execution_count": 18,
   "metadata": {},
   "outputs": [
    {
     "data": {
      "text/plain": [
       "array([2017., 2018., 2019., 2020., 2021., 2022.], dtype=float32)"
      ]
     },
     "execution_count": 18,
     "metadata": {},
     "output_type": "execute_result"
    }
   ],
   "source": [
    "year = np.array(year)\n",
    "np.unique(year)"
   ]
  },
  {
   "cell_type": "code",
   "execution_count": 19,
   "metadata": {},
   "outputs": [
    {
     "data": {
      "text/plain": [
       "{'medv_2017': [],\n",
       " 'medv_2018': [],\n",
       " 'medv_2019': [],\n",
       " 'medv_2020': [],\n",
       " 'medv_2021': [],\n",
       " 'medv_2022': []}"
      ]
     },
     "execution_count": 19,
     "metadata": {},
     "output_type": "execute_result"
    }
   ],
   "source": [
    "obj = {}\n",
    "for y in np.unique(year):\n",
    "    y = int(y)\n",
    "    s = 'medv_' + str(y)\n",
    "    obj[s] = []\n",
    "obj"
   ]
  },
  {
   "cell_type": "code",
   "execution_count": 20,
   "metadata": {},
   "outputs": [],
   "source": [
    "for i in range(len(year)):\n",
    "    if year[i] == 2017:\n",
    "        obj['medv_'+ str(int(year[i]))].append((y_pred[i], y_true[i]))\n",
    "    elif year[i] == 2018:\n",
    "        obj['medv_'+ str(int(year[i]))].append([y_pred[i], y_true[i]])\n",
    "    elif year[i] == 2019:\n",
    "        obj['medv_'+ str(int(year[i]))].append([y_pred[i], y_true[i]])\n",
    "    elif year[i] == 2020:\n",
    "        obj['medv_'+ str(int(year[i]))].append([y_pred[i], y_true[i]])\n",
    "    elif year[i] == 2021:\n",
    "        obj['medv_'+ str(int(year[i]))].append([y_pred[i], y_true[i]])\n",
    "    elif year[i] == 2022:\n",
    "        obj['medv_'+ str(int(year[i]))].append([y_pred[i], y_true[i]])"
   ]
  },
  {
   "cell_type": "code",
   "execution_count": 21,
   "metadata": {},
   "outputs": [],
   "source": [
    "for dic in list(obj.keys()):\n",
    "    obj[dic] = np.array(obj[dic]).reshape(-1, 2)"
   ]
  },
  {
   "cell_type": "code",
   "execution_count": 22,
   "metadata": {
    "scrolled": true
   },
   "outputs": [
    {
     "data": {
      "image/png": "[encoded data removed]",
      "text/plain": [
       "<Figure size 432x288 with 1 Axes>"
      ]
     },
     "metadata": {
      "needs_background": "light"
     },
     "output_type": "display_data"
    },
    {
     "data": {
      "image/png": "[encoded data removed]",
      "text/plain": [
       "<Figure size 432x288 with 1 Axes>"
      ]
     },
     "metadata": {
      "needs_background": "light"
     },
     "output_type": "display_data"
    },
    {
     "data": {
      "image/png": "[encoded data removed]",
      "text/plain": [
       "<Figure size 432x288 with 1 Axes>"
      ]
     },
     "metadata": {
      "needs_background": "light"
     },
     "output_type": "display_data"
    },
    {
     "data": {
      "image/png": "[encoded data removed]",
      "text/plain": [
       "<Figure size 432x288 with 1 Axes>"
      ]
     },
     "metadata": {
      "needs_background": "light"
     },
     "output_type": "display_data"
    },
    {
     "data": {
      "image/png": "[encoded data removed]",
      "text/plain": [
       "<Figure size 432x288 with 1 Axes>"
      ]
     },
     "metadata": {
      "needs_background": "light"
     },
     "output_type": "display_data"
    },
    {
     "data": {
      "image/png": "[encoded data removed]",
      "text/plain": [
       "<Figure size 432x288 with 1 Axes>"
      ]
     },
     "metadata": {
      "needs_background": "light"
     },
     "output_type": "display_data"
    }
   ],
   "source": [
    "for dic in list(obj.keys()):\n",
    "    width = 0.4\n",
    "    x_dummy = np.linspace(1, len(obj[dic][:, 0]), len(obj[dic][:, 0]))\n",
    "\n",
    "    plt.bar(x_dummy, obj[dic][:, 0], width/2, label='predicted')\n",
    "    plt.bar(x_dummy+0.2, obj[dic][:, 1], width/2, label='actual')\n",
    "    plt.legend()\n",
    "    plt.xlabel('data')\n",
    "    plt.ylabel('MEDV / $1000')\n",
    "    plt.title(dic.replace('_', ' '))\n",
    "    plt.show()"
   ]
  },
  {
   "cell_type": "code",
   "execution_count": 53,
   "metadata": {},
   "outputs": [
    {
     "data": {
      "image/png": "[encoded data removed]",
      "text/plain": [
       "<Figure size 432x288 with 6 Axes>"
      ]
     },
     "metadata": {
      "needs_background": "light"
     },
     "output_type": "display_data"
    }
   ],
   "source": [
    "fig, axs = plt.subplots(2, 3)\n",
    "m, n, l = 0, 0, 0\n",
    "\n",
    "for i in range(len(list(obj.keys()))):\n",
    "    x_dummy = np.linspace(1, len(obj[list(obj.keys())[i]][:, 0]), len(obj[list(obj.keys())[i]][:, 0]))\n",
    "    if i % 2 == 0:\n",
    "        axs[0, m].bar(x_dummy, obj[list(obj.keys())[i]][:, 0], width/2, label='predicted') \n",
    "        axs[0, m].bar(x_dummy+width/2, obj[list(obj.keys())[i]][:, 1], width/2, label='actual')\n",
    "        axs[0, m].set_title(list(obj.keys())[i].replace('_', ' '))\n",
    "    \n",
    "        m += 1\n",
    "        \n",
    "    elif i % 2 == 1:\n",
    "        axs[1, n].bar(x_dummy, obj[list(obj.keys())[i]][:, 0], width/2, label='predicted') \n",
    "        axs[1, n].bar(x_dummy+width/2, obj[list(obj.keys())[i]][:, 1], width/2, label='actual')\n",
    "        axs[1, n].set_title(list(obj.keys())[i].replace('_', ' '))\n",
    "        n += 1\n",
    "            \n",
    "for ax in axs.flat:\n",
    "    ax.set(xlabel='data', ylabel='MEDV / $1000')\n",
    "\n",
    "fig.tight_layout()\n",
    "plt.legend(loc=(1.1, 1))\n",
    "fig.suptitle('ANN Evaluation Results', y=1.05)\n",
    "fig.savefig('./figure/medv_ann_bar.pdf', dpi=300, bbox_inches='tight')"
   ]
  },
  {
   "cell_type": "code",
   "execution_count": null,
   "metadata": {},
   "outputs": [],
   "source": []
  }
 ],
 "metadata": {
  "kernelspec": {
   "display_name": "Python 3",
   "language": "python",
   "name": "python3"
  },
  "language_info": {
   "codemirror_mode": {
    "name": "ipython",
    "version": 3
   },
   "file_extension": ".py",
   "mimetype": "text/x-python",
   "name": "python",
   "nbconvert_exporter": "python",
   "pygments_lexer": "ipython3",
   "version": "3.7.6"
  }
 },
 "nbformat": 4,
 "nbformat_minor": 4
}
