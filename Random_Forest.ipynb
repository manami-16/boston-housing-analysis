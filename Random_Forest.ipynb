{
 "cells": [
  {
   "cell_type": "code",
   "execution_count": 1,
   "metadata": {},
   "outputs": [],
   "source": [
    "import pandas as pd\n",
    "import numpy as np\n",
    "import matplotlib.pyplot as plt\n",
    "from src.data_loader import *\n",
    "from sklearn.ensemble import RandomForestRegressor\n",
    "from sklearn.metrics import mean_squared_error, r2_score"
   ]
  },
  {
   "cell_type": "code",
   "execution_count": 2,
   "metadata": {},
   "outputs": [],
   "source": [
    "data = split_dataset()"
   ]
  },
  {
   "cell_type": "code",
   "execution_count": 3,
   "metadata": {},
   "outputs": [
    {
     "data": {
      "text/plain": [
       "dict_keys(['X_train', 'y_train', 'X_val', 'y_val', 'X_test', 'y_test'])"
      ]
     },
     "execution_count": 3,
     "metadata": {},
     "output_type": "execute_result"
    }
   ],
   "source": [
    "data.keys()"
   ]
  },
  {
   "cell_type": "code",
   "execution_count": 4,
   "metadata": {},
   "outputs": [],
   "source": [
    "X_train = data['X_train']\n",
    "y_train = data['y_train']\n",
    "X_val = data['X_val']\n",
    "y_val = data['y_val']\n",
    "X_test = data['X_test']\n",
    "y_test = data['y_test']"
   ]
  },
  {
   "cell_type": "code",
   "execution_count": 5,
   "metadata": {},
   "outputs": [
    {
     "name": "stdout",
     "output_type": "stream",
     "text": [
      "For 3 estimator: Test RMSE: 274.3833, Train RMSE: 43.6462\n",
      "For 4 estimator: Test RMSE: 259.5900, Train RMSE: 45.4070\n",
      "For 5 estimator: Test RMSE: 250.3046, Train RMSE: 44.0672\n",
      "For 6 estimator: Test RMSE: 251.0484, Train RMSE: 39.4730\n",
      "For 7 estimator: Test RMSE: 249.0974, Train RMSE: 44.5159\n",
      "For 8 estimator: Test RMSE: 244.1683, Train RMSE: 47.3888\n",
      "For 9 estimator: Test RMSE: 238.2971, Train RMSE: 49.4799\n",
      "For 10 estimator: Test RMSE: 237.8555, Train RMSE: 46.4568\n",
      "For 11 estimator: Test RMSE: 245.1234, Train RMSE: 48.9651\n",
      "For 12 estimator: Test RMSE: 233.9768, Train RMSE: 52.1060\n",
      "For 13 estimator: Test RMSE: 234.5584, Train RMSE: 53.0966\n",
      "For 14 estimator: Test RMSE: 236.9170, Train RMSE: 51.3520\n",
      "For 15 estimator: Test RMSE: 228.1471, Train RMSE: 52.1303\n",
      "For 16 estimator: Test RMSE: 226.9311, Train RMSE: 55.2640\n",
      "For 17 estimator: Test RMSE: 225.7974, Train RMSE: 53.8106\n",
      "For 18 estimator: Test RMSE: 224.9448, Train RMSE: 56.1556\n",
      "For 19 estimator: Test RMSE: 220.3091, Train RMSE: 56.7345\n"
     ]
    }
   ],
   "source": [
    "# Fit a random forest regressor\n",
    "rmse_test_list = []\n",
    "rmse_train_list = []\n",
    "for i in range(3, 20):\n",
    "    rfr = RandomForestRegressor(n_estimators=i, n_jobs=-1, random_state=123)\n",
    "    rfr.fit(X_train, y_train)\n",
    "    y_pred_test = rfr.predict(X_test)\n",
    "    mse_test = mean_squared_error(y_test, y_pred_test)\n",
    "    rmse_test = np.sqrt(mse_test)\n",
    "    rmse_test_list.append(rmse_test)\n",
    "    y_pred_train = rfr.predict(X_train)\n",
    "    mse_train = mean_squared_error(y_train, y_pred_train)\n",
    "    rmse_train = np.sqrt(mse_train)\n",
    "    rmse_train_list.append(rmse_train)\n",
    "    print(f\"For {i} estimator: Test RMSE: {rmse_test:.4f}, Train RMSE: {rmse_train:.4f}\")"
   ]
  },
  {
   "cell_type": "code",
   "execution_count": 6,
   "metadata": {},
   "outputs": [
    {
     "data": {
      "text/plain": [
       "<matplotlib.legend.Legend at 0x7fda9988e130>"
      ]
     },
     "execution_count": 6,
     "metadata": {},
     "output_type": "execute_result"
    },
    {
     "data": {
      "image/png": "[encoded data removed]",
      "text/plain": [
       "<Figure size 576x432 with 1 Axes>"
      ]
     },
     "metadata": {
      "needs_background": "light"
     },
     "output_type": "display_data"
    }
   ],
   "source": [
    "# Create a plot for MSE and R2 values\n",
    "fig, ax1 = plt.subplots(figsize=(8, 6))\n",
    "\n",
    "n_estimators = list(range(3, 20))\n",
    "\n",
    "# Plot the MSE curve\n",
    "ax1.plot(n_estimators, rmse_train_list, linestyle='-', label=\"Train\")\n",
    "ax1.plot(n_estimators, rmse_test_list, linestyle='-', label=\"Test\")\n",
    "ax1.set_xlabel(\"Number of Estimators\")\n",
    "ax1.set_ylabel(\"Root Mean Squared Error\")\n",
    "plt.title('Random Forest Regressor')\n",
    "ax1.legend()"
   ]
  },
  {
   "cell_type": "code",
   "execution_count": 7,
   "metadata": {},
   "outputs": [
    {
     "name": "stdout",
     "output_type": "stream",
     "text": [
      "RM: 0.000\n",
      "PTRATIO: 0.035\n",
      "LSTAT: 0.000\n",
      "year: 0.005\n",
      "Units Sold: 0.045\n",
      "Active Listings: 0.021\n",
      "Months Supply of Inventory: 0.076\n",
      "New Listings: 0.060\n",
      "Pending Sales: 0.141\n",
      "Days to Off Market: 0.044\n",
      "Sold to Original Price Ratio: 0.008\n",
      "Price per Square Foot: 0.562\n",
      "month: 0.003\n"
     ]
    }
   ],
   "source": [
    "# Identify the most important features\n",
    "rf_feature_importances = rfr.feature_importances_\n",
    "for i, feature_name in enumerate(X_train.columns):\n",
    "    print(f\"{feature_name}: {rf_feature_importances[i]:.3f}\")"
   ]
  },
  {
   "cell_type": "code",
   "execution_count": null,
   "metadata": {},
   "outputs": [],
   "source": []
  }
 ],
 "metadata": {
  "kernelspec": {
   "display_name": "Python 3",
   "language": "python",
   "name": "python3"
  },
  "language_info": {
   "codemirror_mode": {
    "name": "ipython",
    "version": 3
   },
   "file_extension": ".py",
   "mimetype": "text/x-python",
   "name": "python",
   "nbconvert_exporter": "python",
   "pygments_lexer": "ipython3",
   "version": "3.8.5"
  }
 },
 "nbformat": 4,
 "nbformat_minor": 4
}
