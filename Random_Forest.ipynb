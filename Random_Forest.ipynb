{
 "cells": [
  {
   "cell_type": "code",
   "execution_count": 1,
   "metadata": {},
   "outputs": [],
   "source": [
    "import pandas as pd\n",
    "import numpy as np\n",
    "from src.data_loader import *\n",
    "from sklearn.ensemble import RandomForestRegressor\n",
    "from sklearn.metrics import mean_squared_error, r2_score"
   ]
  },
  {
   "cell_type": "code",
   "execution_count": 2,
   "metadata": {},
   "outputs": [],
   "source": [
    "data = split_dataset()"
   ]
  },
  {
   "cell_type": "code",
   "execution_count": 3,
   "metadata": {},
   "outputs": [
    {
     "data": {
      "text/plain": [
       "dict_keys(['X_train', 'y_train', 'X_val', 'y_val', 'X_test', 'y_test'])"
      ]
     },
     "execution_count": 3,
     "metadata": {},
     "output_type": "execute_result"
    }
   ],
   "source": [
    "data.keys()"
   ]
  },
  {
   "cell_type": "code",
   "execution_count": 4,
   "metadata": {},
   "outputs": [],
   "source": [
    "X_train = data['X_train']\n",
    "y_train = data['y_train']\n",
    "X_val = data['X_val']\n",
    "y_val = data['y_val']\n",
    "X_test = data['X_test']\n",
    "y_test = data['y_test']"
   ]
  },
  {
   "cell_type": "code",
   "execution_count": 14,
   "metadata": {},
   "outputs": [
    {
     "name": "stdout",
     "output_type": "stream",
     "text": [
      "For 3 estimator: Test MSE: 107916.3963, R2: 0.6019988777264789, Train MSE: 3401.7177, R2: 0.9564405105631958 \n",
      "For 4 estimator: Test MSE: 125401.1943, R2: 0.5375140594135517, Train MSE: 3293.0373, R2: 0.9578321786590493 \n",
      "For 5 estimator: Test MSE: 125467.4280, R2: 0.5372697862512701, Train MSE: 2348.6966, R2: 0.9699245984659424 \n",
      "For 6 estimator: Test MSE: 124672.5815, R2: 0.5402012200348598, Train MSE: 1800.6908, R2: 0.9769418934703014 \n",
      "For 7 estimator: Test MSE: 129603.3038, R2: 0.5220164670991387, Train MSE: 1835.8549, R2: 0.9764916118253212 \n",
      "For 8 estimator: Test MSE: 132418.4199, R2: 0.5116341767490012, Train MSE: 1635.0061, R2: 0.9790635090401252 \n",
      "For 9 estimator: Test MSE: 138491.1828, R2: 0.4892375205714333, Train MSE: 1837.5732, R2: 0.9764696082694352 \n",
      "For 10 estimator: Test MSE: 141897.9692, R2: 0.4766731198565367, Train MSE: 2152.9221, R2: 0.9724315200855722 \n",
      "For 11 estimator: Test MSE: 140794.5097, R2: 0.4807427343858023, Train MSE: 2118.9875, R2: 0.972866056834043 \n"
     ]
    }
   ],
   "source": [
    "# Fit a random forest regressor\n",
    "for i in range(3, 12):\n",
    "    rfr = RandomForestRegressor(n_estimators=i, n_jobs=-1, random_state=123)\n",
    "    rfr.fit(X_train, y_train)\n",
    "    y_pred_test = rfr.predict(X_test)\n",
    "    mse_test = mean_squared_error(y_test, y_pred_test)\n",
    "    y_pred_train = rfr.predict(X_train)\n",
    "    mse_train = mean_squared_error(y_train, y_pred_train)\n",
    "    y_train_pred = rfr.predict(X_train)\n",
    "    y_test_pred = rfr.predict(X_test)\n",
    "    r2_train = r2_score(y_train, y_train_pred)\n",
    "    r2_test = r2_score(y_test, y_test_pred)\n",
    "    print(f\"For {i} estimator: Test MSE: {mse_test:.4f}, R2: {r2_test}, Train MSE: {mse_train:.4f}, R2: {r2_train} \")"
   ]
  },
  {
   "cell_type": "code",
   "execution_count": 16,
   "metadata": {},
   "outputs": [
    {
     "name": "stdout",
     "output_type": "stream",
     "text": [
      "RM: 0.146\n",
      "PTRATIO: 0.000\n",
      "LSTAT: 0.072\n",
      "year: 0.006\n",
      "Units Sold: 0.035\n",
      "Active Listings: 0.053\n",
      "Months Supply of Inventory: 0.027\n",
      "New Listings: 0.087\n",
      "Pending Sales: 0.083\n",
      "Days to Off Market: 0.006\n",
      "Sold to Original Price Ratio: 0.011\n",
      "Price per Square Foot: 0.396\n",
      "month: 0.075\n"
     ]
    }
   ],
   "source": [
    "# Identify the most important features\n",
    "rf_feature_importances = rfr.feature_importances_\n",
    "for i, feature_name in enumerate(X_train.columns):\n",
    "    print(f\"{feature_name}: {rf_feature_importances[i]:.3f}\")"
   ]
  },
  {
   "cell_type": "code",
   "execution_count": null,
   "metadata": {},
   "outputs": [],
   "source": []
  }
 ],
 "metadata": {
  "kernelspec": {
   "display_name": "Python 3",
   "language": "python",
   "name": "python3"
  },
  "language_info": {
   "codemirror_mode": {
    "name": "ipython",
    "version": 3
   },
   "file_extension": ".py",
   "mimetype": "text/x-python",
   "name": "python",
   "nbconvert_exporter": "python",
   "pygments_lexer": "ipython3",
   "version": "3.8.5"
  }
 },
 "nbformat": 4,
 "nbformat_minor": 4
}
