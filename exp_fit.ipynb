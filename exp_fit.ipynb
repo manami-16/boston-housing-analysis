{
 "cells": [
  {
   "cell_type": "code",
   "execution_count": 77,
   "metadata": {},
   "outputs": [],
   "source": [
    "import torch\n",
    "import torch.nn as nn\n",
    "import numpy as np\n",
    "import pandas as pd\n",
    "from sklearn.model_selection import train_test_split\n",
    "from torch.utils.data import ConcatDataset, DataLoader, Sampler, Dataset\n",
    "from src.data_loader import *\n",
    "import torch.nn.functional as F\n",
    "import torch.optim as optim\n",
    "import matplotlib.pyplot as plt\n",
    "import random\n",
    "import os\n",
    "from sklearn.linear_model import LinearRegression\n",
    "from sklearn.metrics import mean_squared_error as mse"
   ]
  },
  {
   "cell_type": "markdown",
   "metadata": {},
   "source": [
    "### 0. Prepare Dataset"
   ]
  },
  {
   "cell_type": "code",
   "execution_count": 24,
   "metadata": {},
   "outputs": [],
   "source": [
    "f_path = 'data/selected_statslib.csv'\n",
    "statslib_df = pd.read_csv(f_path)\n",
    "statslib_df.drop(columns='Unnamed: 0', axis=1, inplace=True)\n",
    "\n",
    "f_path = 'data/selected_GBREB.csv'\n",
    "GBREB_df = pd.read_csv(f_path)\n",
    "GBREB_df.drop(columns='Unnamed: 0', axis=1, inplace=True)"
   ]
  },
  {
   "cell_type": "code",
   "execution_count": 25,
   "metadata": {},
   "outputs": [
    {
     "data": {
      "text/html": [
       "<div>\n",
       "<style scoped>\n",
       "    .dataframe tbody tr th:only-of-type {\n",
       "        vertical-align: middle;\n",
       "    }\n",
       "\n",
       "    .dataframe tbody tr th {\n",
       "        vertical-align: top;\n",
       "    }\n",
       "\n",
       "    .dataframe thead th {\n",
       "        text-align: right;\n",
       "    }\n",
       "</style>\n",
       "<table border=\"1\" class=\"dataframe\">\n",
       "  <thead>\n",
       "    <tr style=\"text-align: right;\">\n",
       "      <th></th>\n",
       "      <th>RM</th>\n",
       "      <th>PTRATIO</th>\n",
       "      <th>LSTAT</th>\n",
       "      <th>MEDV</th>\n",
       "      <th>year</th>\n",
       "      <th>Units Sold</th>\n",
       "      <th>Active Listings</th>\n",
       "      <th>Months Supply of Inventory</th>\n",
       "      <th>New Listings</th>\n",
       "      <th>Pending Sales</th>\n",
       "      <th>Days to Off Market</th>\n",
       "      <th>Sold to Original Price Ratio</th>\n",
       "      <th>Price per Square Foot</th>\n",
       "      <th>month</th>\n",
       "    </tr>\n",
       "  </thead>\n",
       "  <tbody>\n",
       "    <tr>\n",
       "      <th>0</th>\n",
       "      <td>6.575</td>\n",
       "      <td>15.3</td>\n",
       "      <td>4.98</td>\n",
       "      <td>24.0</td>\n",
       "      <td>1993</td>\n",
       "      <td>0.0</td>\n",
       "      <td>0.0</td>\n",
       "      <td>0.0</td>\n",
       "      <td>0.0</td>\n",
       "      <td>0.0</td>\n",
       "      <td>0.0</td>\n",
       "      <td>0.0</td>\n",
       "      <td>0.0</td>\n",
       "      <td>0.0</td>\n",
       "    </tr>\n",
       "    <tr>\n",
       "      <th>1</th>\n",
       "      <td>6.421</td>\n",
       "      <td>17.8</td>\n",
       "      <td>9.14</td>\n",
       "      <td>21.6</td>\n",
       "      <td>1993</td>\n",
       "      <td>0.0</td>\n",
       "      <td>0.0</td>\n",
       "      <td>0.0</td>\n",
       "      <td>0.0</td>\n",
       "      <td>0.0</td>\n",
       "      <td>0.0</td>\n",
       "      <td>0.0</td>\n",
       "      <td>0.0</td>\n",
       "      <td>0.0</td>\n",
       "    </tr>\n",
       "    <tr>\n",
       "      <th>2</th>\n",
       "      <td>7.185</td>\n",
       "      <td>17.8</td>\n",
       "      <td>4.03</td>\n",
       "      <td>34.7</td>\n",
       "      <td>1993</td>\n",
       "      <td>0.0</td>\n",
       "      <td>0.0</td>\n",
       "      <td>0.0</td>\n",
       "      <td>0.0</td>\n",
       "      <td>0.0</td>\n",
       "      <td>0.0</td>\n",
       "      <td>0.0</td>\n",
       "      <td>0.0</td>\n",
       "      <td>0.0</td>\n",
       "    </tr>\n",
       "    <tr>\n",
       "      <th>3</th>\n",
       "      <td>6.998</td>\n",
       "      <td>18.7</td>\n",
       "      <td>2.94</td>\n",
       "      <td>33.4</td>\n",
       "      <td>1993</td>\n",
       "      <td>0.0</td>\n",
       "      <td>0.0</td>\n",
       "      <td>0.0</td>\n",
       "      <td>0.0</td>\n",
       "      <td>0.0</td>\n",
       "      <td>0.0</td>\n",
       "      <td>0.0</td>\n",
       "      <td>0.0</td>\n",
       "      <td>0.0</td>\n",
       "    </tr>\n",
       "    <tr>\n",
       "      <th>4</th>\n",
       "      <td>7.147</td>\n",
       "      <td>18.7</td>\n",
       "      <td>5.33</td>\n",
       "      <td>36.2</td>\n",
       "      <td>1993</td>\n",
       "      <td>0.0</td>\n",
       "      <td>0.0</td>\n",
       "      <td>0.0</td>\n",
       "      <td>0.0</td>\n",
       "      <td>0.0</td>\n",
       "      <td>0.0</td>\n",
       "      <td>0.0</td>\n",
       "      <td>0.0</td>\n",
       "      <td>0.0</td>\n",
       "    </tr>\n",
       "  </tbody>\n",
       "</table>\n",
       "</div>"
      ],
      "text/plain": [
       "      RM  PTRATIO  LSTAT  MEDV  year  Units Sold  Active Listings  \\\n",
       "0  6.575     15.3   4.98  24.0  1993         0.0              0.0   \n",
       "1  6.421     17.8   9.14  21.6  1993         0.0              0.0   \n",
       "2  7.185     17.8   4.03  34.7  1993         0.0              0.0   \n",
       "3  6.998     18.7   2.94  33.4  1993         0.0              0.0   \n",
       "4  7.147     18.7   5.33  36.2  1993         0.0              0.0   \n",
       "\n",
       "   Months Supply of Inventory  New Listings  Pending Sales  \\\n",
       "0                         0.0           0.0            0.0   \n",
       "1                         0.0           0.0            0.0   \n",
       "2                         0.0           0.0            0.0   \n",
       "3                         0.0           0.0            0.0   \n",
       "4                         0.0           0.0            0.0   \n",
       "\n",
       "   Days to Off Market  Sold to Original Price Ratio  Price per Square Foot  \\\n",
       "0                 0.0                           0.0                    0.0   \n",
       "1                 0.0                           0.0                    0.0   \n",
       "2                 0.0                           0.0                    0.0   \n",
       "3                 0.0                           0.0                    0.0   \n",
       "4                 0.0                           0.0                    0.0   \n",
       "\n",
       "   month  \n",
       "0    0.0  \n",
       "1    0.0  \n",
       "2    0.0  \n",
       "3    0.0  \n",
       "4    0.0  "
      ]
     },
     "execution_count": 25,
     "metadata": {},
     "output_type": "execute_result"
    }
   ],
   "source": [
    "total = pd.concat([statslib_df, GBREB_df], axis=0)\n",
    "total.fillna(0, inplace=True)\n",
    "# total.fillna(0, inplace=True)\n",
    "total.head()"
   ]
  },
  {
   "cell_type": "code",
   "execution_count": 26,
   "metadata": {},
   "outputs": [
    {
     "data": {
      "text/plain": [
       "['RM',\n",
       " 'PTRATIO',\n",
       " 'LSTAT',\n",
       " 'year',\n",
       " 'Units Sold',\n",
       " 'Active Listings',\n",
       " 'Months Supply of Inventory',\n",
       " 'New Listings',\n",
       " 'Pending Sales',\n",
       " 'Days to Off Market',\n",
       " 'Sold to Original Price Ratio',\n",
       " 'Price per Square Foot',\n",
       " 'month']"
      ]
     },
     "execution_count": 26,
     "metadata": {},
     "output_type": "execute_result"
    }
   ],
   "source": [
    "## list of features to feed\n",
    "feature_list = list(total.columns)\n",
    "feature_list.remove('MEDV')\n",
    "feature_list"
   ]
  },
  {
   "cell_type": "code",
   "execution_count": 27,
   "metadata": {},
   "outputs": [],
   "source": [
    "gbreb_train_size = 0.4\n",
    "gbreb_val_size = 0.5\n",
    "gbreb_test_size = 0.5\n",
    "\n",
    "X_gbreb_train, X_gbreb, y_gbreb_train, y_gbreb = train_test_split(total[total['year'] != 1993][feature_list], \n",
    "                                                                  total[total['year']!=1993]['MEDV'],\n",
    "                                                                  train_size=gbreb_train_size, \n",
    "                                                                 shuffle=True)\n",
    "X_gbreb_val, X_gbreb_test, y_gbreb_val, y_gbreb_test = train_test_split(X_gbreb, \n",
    "                                                                        y_gbreb, \n",
    "                                                                        train_size=gbreb_val_size, \n",
    "                                                                        shuffle=True)"
   ]
  },
  {
   "cell_type": "code",
   "execution_count": 53,
   "metadata": {},
   "outputs": [
    {
     "data": {
      "text/plain": [
       "0       24.0\n",
       "1       21.6\n",
       "2       34.7\n",
       "3       33.4\n",
       "4       36.2\n",
       "       ...  \n",
       "586    380.0\n",
       "587    900.0\n",
       "588    358.0\n",
       "589    692.5\n",
       "590    760.0\n",
       "Name: MEDV, Length: 591, dtype: float64"
      ]
     },
     "execution_count": 53,
     "metadata": {},
     "output_type": "execute_result"
    }
   ],
   "source": [
    "X_train_set = pd.concat([total[total['year'] == 1993][feature_list], X_gbreb_train], axis=0)\n",
    "y_train_set = pd.concat([total[total['year'] == 1993]['MEDV'], y_gbreb_train], axis=0)\n",
    "X_val_set, y_val_set = X_gbreb_val, y_gbreb_val\n",
    "X_test_set, y_test_set = X_gbreb_test, y_gbreb_test\n",
    "\n",
    "X_train_set.reset_index(inplace=True, drop=True)\n",
    "y_train_set.reset_index(inplace=True, drop=True)\n",
    "X_val_set.reset_index(inplace=True, drop=True)\n",
    "y_val_set.reset_index(inplace=True, drop=True)\n",
    "X_test_set.reset_index(inplace=True, drop=True)\n",
    "y_test_set.reset_index(inplace=True, drop=True)\n",
    "y_train_set"
   ]
  },
  {
   "cell_type": "code",
   "execution_count": 54,
   "metadata": {},
   "outputs": [],
   "source": [
    "X_train_set = X_train_set.to_numpy()\n",
    "y_train_set = y_train_set.to_numpy()"
   ]
  },
  {
   "cell_type": "code",
   "execution_count": 55,
   "metadata": {},
   "outputs": [
    {
     "data": {
      "text/plain": [
       "((591, 13), (591,))"
      ]
     },
     "execution_count": 55,
     "metadata": {},
     "output_type": "execute_result"
    }
   ],
   "source": [
    "X_train_set.shape, y_train_set.shape"
   ]
  },
  {
   "cell_type": "code",
   "execution_count": 40,
   "metadata": {},
   "outputs": [
    {
     "data": {
      "text/plain": [
       "(591, 1)"
      ]
     },
     "execution_count": 40,
     "metadata": {},
     "output_type": "execute_result"
    }
   ],
   "source": [
    "y_train_set = y_train_set.reshape(-1, 1)\n",
    "y_train_set.shape"
   ]
  },
  {
   "cell_type": "code",
   "execution_count": 57,
   "metadata": {},
   "outputs": [],
   "source": [
    "log_y_train_set = np.log(y_train_set)"
   ]
  },
  {
   "cell_type": "code",
   "execution_count": 66,
   "metadata": {},
   "outputs": [],
   "source": [
    "model = LinearRegression().fit(X_train_set, log_y_train_set)"
   ]
  },
  {
   "cell_type": "markdown",
   "metadata": {},
   "source": [
    "### 1. Check Linearity\n"
   ]
  },
  {
   "cell_type": "code",
   "execution_count": 68,
   "metadata": {},
   "outputs": [
    {
     "data": {
      "text/plain": [
       "0.9212071015740662"
      ]
     },
     "execution_count": 68,
     "metadata": {},
     "output_type": "execute_result"
    }
   ],
   "source": [
    "model.score(X_train_set, log_y_train_set)"
   ]
  },
  {
   "cell_type": "code",
   "execution_count": 80,
   "metadata": {},
   "outputs": [
    {
     "data": {
      "text/plain": [
       "(array([ 9.79188573e-02, -4.04227556e-02, -3.56438533e-02,  9.56108928e-02,\n",
       "         1.03302540e-03, -4.81175364e-04,  1.18171922e-01, -1.12834027e-03,\n",
       "         1.08409846e-03,  2.27248958e-03, -6.54184708e-01,  1.75615111e-03,\n",
       "        -1.34811398e-02]),\n",
       " -186.93610808863028)"
      ]
     },
     "execution_count": 80,
     "metadata": {},
     "output_type": "execute_result"
    }
   ],
   "source": [
    "model.coef_, model.intercept_"
   ]
  },
  {
   "cell_type": "code",
   "execution_count": 81,
   "metadata": {},
   "outputs": [
    {
     "data": {
      "text/plain": [
       "(array([1.10287329, 0.96038335, 0.96498391, 1.10033083, 1.00103356,\n",
       "        0.99951894, 1.12543758, 0.9988723 , 1.00108469, 1.00227507,\n",
       "        0.51986573, 1.00175769, 0.98660932]),\n",
       " 6.526491678944675e-82)"
      ]
     },
     "execution_count": 81,
     "metadata": {},
     "output_type": "execute_result"
    }
   ],
   "source": [
    "np.exp(model.coef_), np.exp(model.intercept_)"
   ]
  },
  {
   "cell_type": "markdown",
   "metadata": {},
   "source": [
    "### 2. Compute L1"
   ]
  },
  {
   "cell_type": "code",
   "execution_count": 69,
   "metadata": {},
   "outputs": [],
   "source": [
    "# X_val_set\n",
    "log_y_val_set = np.log(y_val_set)"
   ]
  },
  {
   "cell_type": "code",
   "execution_count": 78,
   "metadata": {},
   "outputs": [
    {
     "data": {
      "text/plain": [
       "0.11829957234544398"
      ]
     },
     "execution_count": 78,
     "metadata": {},
     "output_type": "execute_result"
    }
   ],
   "source": [
    "log_y_pred = model.predict(X_val_set)\n",
    "mse(log_y_val_set, log_y_pred)"
   ]
  },
  {
   "cell_type": "markdown",
   "metadata": {},
   "source": []
  }
 ],
 "metadata": {
  "kernelspec": {
   "display_name": "Python 3",
   "language": "python",
   "name": "python3"
  },
  "language_info": {
   "codemirror_mode": {
    "name": "ipython",
    "version": 3
   },
   "file_extension": ".py",
   "mimetype": "text/x-python",
   "name": "python",
   "nbconvert_exporter": "python",
   "pygments_lexer": "ipython3",
   "version": "3.8.5"
  }
 },
 "nbformat": 4,
 "nbformat_minor": 4
}
